{
  "nbformat": 4,
  "nbformat_minor": 0,
  "metadata": {
    "colab": {
      "name": "Predicting Semantic Direction.ipynb",
      "provenance": [],
      "collapsed_sections": [],
      "authorship_tag": "ABX9TyM+zngLj7aI7MxoNprHIjmp",
      "include_colab_link": true
    },
    "kernelspec": {
      "name": "python3",
      "display_name": "Python 3"
    },
    "language_info": {
      "name": "python"
    }
  },
  "cells": [
    {
      "cell_type": "markdown",
      "metadata": {
        "id": "view-in-github",
        "colab_type": "text"
      },
      "source": [
        "<a href=\"https://colab.research.google.com/github/o-fugi/FURSPColexification/blob/main/code/Predicting_Semantic_Direction.ipynb\" target=\"_parent\"><img src=\"https://colab.research.google.com/assets/colab-badge.svg\" alt=\"Open In Colab\"/></a>"
      ]
    },
    {
      "cell_type": "code",
      "source": [
        "from google.colab import drive\n",
        "drive.mount('/content/drive/')\n",
        "%cd /content/drive/MyDrive/ColabFiles/"
      ],
      "metadata": {
        "colab": {
          "base_uri": "https://localhost:8080/"
        },
        "id": "jwtytK6h2xdv",
        "outputId": "f46165eb-2941-4377-e1b5-1fee08f86a7a"
      },
      "execution_count": 1,
      "outputs": [
        {
          "output_type": "stream",
          "name": "stdout",
          "text": [
            "Drive already mounted at /content/drive/; to attempt to forcibly remount, call drive.mount(\"/content/drive/\", force_remount=True).\n",
            "/content/drive/MyDrive/ColabFiles\n"
          ]
        }
      ]
    },
    {
      "cell_type": "code",
      "source": [
        "import pandas as pd\n",
        "pd.options.mode.chained_assignment = None  # default='warn'"
      ],
      "metadata": {
        "id": "X2rZa9ndasGx"
      },
      "execution_count": 71,
      "outputs": []
    },
    {
      "cell_type": "code",
      "execution_count": 92,
      "metadata": {
        "id": "Q7rn6PCy2otq"
      },
      "outputs": [],
      "source": [
        "import pandas as pd\n",
        "import re\n",
        "import numpy as np\n",
        "from sklearn.linear_model import LogisticRegression\n",
        "from sklearn.model_selection import train_test_split\n",
        "from functools import reduce\n",
        "import random as r"
      ]
    },
    {
      "cell_type": "code",
      "source": [
        "!pip install matplotlib --upgrade\n",
        "%%capture\n",
        "import matplotlib.pyplot as plt\n",
        "import matplotlib as mpl"
      ],
      "metadata": {
        "colab": {
          "base_uri": "https://localhost:8080/"
        },
        "id": "HQAH46lhL1zh",
        "outputId": "72ec77cc-628e-4fde-948a-81ee88499c34"
      },
      "execution_count": 3,
      "outputs": [
        {
          "output_type": "stream",
          "name": "stdout",
          "text": [
            "Looking in indexes: https://pypi.org/simple, https://us-python.pkg.dev/colab-wheels/public/simple/\n",
            "Requirement already satisfied: matplotlib in /usr/local/lib/python3.7/dist-packages (3.5.3)\n",
            "Requirement already satisfied: numpy>=1.17 in /usr/local/lib/python3.7/dist-packages (from matplotlib) (1.21.6)\n",
            "Requirement already satisfied: cycler>=0.10 in /usr/local/lib/python3.7/dist-packages (from matplotlib) (0.11.0)\n",
            "Requirement already satisfied: pillow>=6.2.0 in /usr/local/lib/python3.7/dist-packages (from matplotlib) (7.1.2)\n",
            "Requirement already satisfied: python-dateutil>=2.7 in /usr/local/lib/python3.7/dist-packages (from matplotlib) (2.8.2)\n",
            "Requirement already satisfied: pyparsing>=2.2.1 in /usr/local/lib/python3.7/dist-packages (from matplotlib) (3.0.9)\n",
            "Requirement already satisfied: packaging>=20.0 in /usr/local/lib/python3.7/dist-packages (from matplotlib) (21.3)\n",
            "Requirement already satisfied: fonttools>=4.22.0 in /usr/local/lib/python3.7/dist-packages (from matplotlib) (4.36.0)\n",
            "Requirement already satisfied: kiwisolver>=1.0.1 in /usr/local/lib/python3.7/dist-packages (from matplotlib) (1.4.4)\n",
            "Requirement already satisfied: typing-extensions in /usr/local/lib/python3.7/dist-packages (from kiwisolver>=1.0.1->matplotlib) (4.1.1)\n",
            "Requirement already satisfied: six>=1.5 in /usr/local/lib/python3.7/dist-packages (from python-dateutil>=2.7->matplotlib) (1.15.0)\n"
          ]
        }
      ]
    },
    {
      "cell_type": "code",
      "source": [
        "# import factor  datasets\n",
        "\n",
        "# https://saifmohammad.com/WebPages/nrc-vad.html\n",
        "val_df = pd.read_csv('/content/drive/MyDrive/ColabFiles/NRC-VAD-Lexicon.txt', sep=\"\\t\", header=None)\n",
        "val_df = val_df.rename(columns={0:'Word', 1:'val', 2:'aro', 3:'dom'})[['Word', 'val', 'aro', 'dom']]\n",
        "\n",
        "conc_df = pd.read_csv('/content/drive/MyDrive/ColabFiles/brysbaert_concreteness.csv')\n",
        "conc_df = conc_df.rename(columns={'Conc.M': 'conc'})[['Word', 'conc']]\n",
        "\n",
        "freq_df = pd.read_csv('/content/drive/MyDrive/ColabFiles/COCA_freqs.csv', encoding='ISO-8859-1') # w1, coca_spok\n",
        "freq_df = freq_df.rename(columns={'w1':'Word', 'coca_spok':'freq'})[['Word', 'freq']]\n",
        "freq_df['freq_rank'] = freq_df['freq'].rank(ascending=False)"
      ],
      "metadata": {
        "id": "jhh6QgLl2yte"
      },
      "execution_count": 57,
      "outputs": []
    },
    {
      "cell_type": "code",
      "source": [
        "# import semantic shift dataset\n",
        "\n",
        "sem_shift_df = pd.read_csv('/content/drive/MyDrive/ColabFiles/Project 10 Datasets/cleaned_dat_sem_shift.csv')\n",
        "sem_shift_df['meaning1'] = sem_shift_df['meaning1_clean']\n",
        "sem_shift_df['meaning2'] = sem_shift_df['meaning2_clean']\n",
        "\n",
        "sem_shift_df.at[697, 'meaning1'] = 'furuncul'\n",
        "sem_shift_df.at[1521, 'meaning2'] = 'geometrid'"
      ],
      "metadata": {
        "id": "e8iBqeZq3XNv"
      },
      "execution_count": 5,
      "outputs": []
    },
    {
      "cell_type": "code",
      "source": [
        "#@title english data\n",
        "\n",
        "# sem_shift_df = pd.read_csv('/content/drive/MyDrive/ColabFiles/cleaned_classified_df.csv', encoding='ISO-8859-1')\n",
        "\n",
        "# #remove nan rows\n",
        "# sem_shift_df['Bleached sense'] = sem_shift_df['Bleached sense'].fillna('NaN')\n",
        "# sem_shift_df = sem_shift_df[sem_shift_df['Bleached sense']!='NaN']\n",
        "\n",
        "# # remove completely duplicated rows\n",
        "# sem_shift_df = sem_shift_df[~sem_shift_df.duplicated()]\n",
        "\n",
        "# # get rid of punctuation in the senses\n",
        "\n",
        "# def cleanString(s):\n",
        "#   s = s.lower()\n",
        "#   s = s.replace(\"'\", \"\")\n",
        "#   s = s.replace(\",\", \"\")\n",
        "#   s = s.replace(\";\", \"\")\n",
        "#   s = s.lower()\n",
        "#   return s\n",
        "\n",
        "# sem_shift_df['meaning1'] = sem_shift_df['meaning1'].apply(cleanString)\n",
        "# sem_shift_df['meaning2'] = sem_shift_df['meaning2'].apply(cleanString)\n",
        "\n",
        "# # maybe filter this out for testing  \n",
        "# # sem_shift_df = sem_shift_df[sem_shift_df['Type of change']!= 'synaesthesia']"
      ],
      "metadata": {
        "id": "6Zvl23m7GgS9",
        "cellView": "form"
      },
      "execution_count": null,
      "outputs": []
    },
    {
      "cell_type": "code",
      "source": [
        "# define how we map a sense to concreteness, valence, frequency values\n",
        "\n",
        "skip_words = {'the', 'and', 'of', 'a', 'in', 'to', 'it', 'is', 'that', 'for', 'with', 'on', 'at', 'this', 'that', 'by', 'or', 'an', 'as', 'if', 'so', 'in'}\n",
        "\n",
        "# take all words in the sense and and average/add values\n",
        "# if conservative, only matches to full phrases separated by \"or\"\n",
        "def senseToValue(s, df, col, average=True, conservative=False):\n",
        "  s = s.lower()\n",
        "  if conservative: \n",
        "    phrases = re.split(' or ', s)\n",
        "  else:\n",
        "    for i in \"(),/\":\n",
        "      s = s.replace(i, \"\")\n",
        "    phrases = re.split(' ', s)\n",
        "  total_val = 0\n",
        "  val_data = 0\n",
        "  for p in phrases:\n",
        "    if p in skip_words:\n",
        "      continue\n",
        "    try:\n",
        "      val = df[df['Word']==p][col].values[0]\n",
        "      if not np.isnan(val):\n",
        "        total_val += val\n",
        "        val_data += 1\n",
        "    except:\n",
        "      pass\n",
        "  if val_data == 0:\n",
        "    total_val = np.nan\n",
        "  else:\n",
        "    if average:\n",
        "      total_val /= val_data\n",
        "  return total_val"
      ],
      "metadata": {
        "id": "n83l-7jX4qiW"
      },
      "execution_count": 6,
      "outputs": []
    },
    {
      "cell_type": "code",
      "source": [
        "# get priors for semshift data\n",
        "\n",
        "# dictionary for concreteness and embeddings\n",
        "conc_dic = {} # This will be a dictionary that easily allows us to access the concreteness for all of our senses, saving time. \n",
        "freq_dic = {} \n",
        "val_dic = {} \n",
        "\n",
        "conservative=False\n",
        "\n",
        "for i in range(len(sem_shift_df)): # Here we loop through each row of our dataframe, and if we can convert a sense s to an embedding then we set vec_dic[s] = embedding\n",
        "  row = sem_shift_df.iloc[i]\n",
        "  x = row[\"meaning1\"]\n",
        "  y = row[\"meaning2\"]\n",
        "\n",
        "  if x not in conc_dic:\n",
        "    x_conc = senseToValue(x, conc_df, 'conc', conservative=conservative)\n",
        "    if not np.isnan(x_conc):\n",
        "      conc_dic[x] = x_conc\n",
        "\n",
        "  if y not in conc_dic:\n",
        "    y_conc = senseToValue(y, conc_df, 'conc', conservative=conservative)\n",
        "    if not np.isnan(y_conc):\n",
        "      conc_dic[y] = y_conc\n",
        "\n",
        "  if x not in freq_dic:\n",
        "    x_freq = senseToValue(x, freq_df, 'freq', average=True, conservative=conservative)\n",
        "    if not np.isnan(x_freq):\n",
        "      freq_dic[x] = x_freq\n",
        "\n",
        "  if y not in freq_dic:\n",
        "    y_freq = senseToValue(y, freq_df, 'freq', average=True, conservative=conservative)\n",
        "    if not np.isnan(y_freq):\n",
        "      freq_dic[y] = y_freq\n",
        "\n",
        "  if x not in val_dic:\n",
        "    x_val = senseToValue(x, val_df, 'val', conservative=conservative)\n",
        "    if not np.isnan(x_val):\n",
        "      val_dic[x] = x_val\n",
        "\n",
        "  if y not in val_dic:\n",
        "    y_val = senseToValue(y, val_df, 'val', conservative=conservative)\n",
        "    if not np.isnan(y_val):\n",
        "      val_dic[y] = y_val"
      ],
      "metadata": {
        "id": "a3H1tDpjs-9a",
        "cellView": "code"
      },
      "execution_count": 7,
      "outputs": []
    },
    {
      "cell_type": "code",
      "source": [
        "#@title export these as a dataframe, for use in other places\n",
        "\n",
        "# conc_sense_df = pd.DataFrame.from_dict(conc_dic, orient='index').reset_index().rename(columns={'index':'Word', 0:'conc'})\n",
        "# freq_sense_df = pd.DataFrame.from_dict(freq_dic, orient='index').reset_index().rename(columns={'index':'Word', 0:'freq'})\n",
        "# val_sense_df = pd.DataFrame.from_dict(val_dic, orient='index').reset_index().rename(columns={'index':'Word', 0:'val'})\n",
        "\n",
        "# df = reduce(lambda  left,right: pd.merge(left,right,left_on='meaning1',right_on='Word', how='left'), [sem_shift_df[['meaning1', 'meaning2']], conc_sense_df])\n",
        "# df = reduce(lambda  left,right: pd.merge(left,right,left_on='meaning2',right_on='Word', how='left'), [df, conc_sense_df])\n",
        "# df = reduce(lambda  left,right: pd.merge(left,right,left_on='meaning1',right_on='Word', how='left'), [df, freq_sense_df])\n",
        "# df = reduce(lambda  left,right: pd.merge(left,right,left_on='meaning2',right_on='Word', how='left'), [df, freq_sense_df])\n",
        "# df = reduce(lambda  left,right: pd.merge(left,right,left_on='meaning1',right_on='Word', how='left'), [df, val_sense_df])\n",
        "# df = reduce(lambda  left,right: pd.merge(left,right,left_on='meaning2',right_on='Word', how='left'), [df, val_sense_df])\n",
        "\n",
        "# df = df.drop(['Word_x', 'Word_y'], axis=1)\n",
        "\n",
        "# df.to_csv('all_vars_df.csv', index=False)"
      ],
      "metadata": {
        "cellView": "form",
        "id": "1UejLcvLo1I9"
      },
      "execution_count": 8,
      "outputs": []
    },
    {
      "cell_type": "code",
      "source": [
        "# test prior accuracy\n",
        "\n",
        "# merge concreteness with shift df\n",
        "conc_sense_df = pd.DataFrame.from_dict(conc_dic, orient='index').reset_index().rename(columns={'index':'Word', 0:'conc'})\n",
        "shift_conc_df = reduce(lambda  left,right: pd.merge(left,right,left_on='meaning1',right_on='Word', how='left'), [sem_shift_df, conc_sense_df])\n",
        "shift_conc_df = reduce(lambda  left,right: pd.merge(left,right,left_on='meaning2',right_on='Word', how='left'), [shift_conc_df, conc_sense_df])\n",
        "\n",
        "# calculate ratio and find accuracy\n",
        "shift_conc_df['ratio'] = shift_conc_df['conc_x'] / shift_conc_df['conc_y']\n",
        "shift_conc_df = shift_conc_df[~np.isnan(shift_conc_df['ratio'])]\n",
        "shift_conc_df['ratio_accurate'] = shift_conc_df['ratio'] > 1\n",
        "print(shift_conc_df['ratio_accurate'].value_counts())\n",
        "print(\"accuracy: \", shift_conc_df['ratio_accurate'].value_counts()[True] / len(shift_conc_df), \"with \", len(shift_conc_df) , \"samples\")\n",
        "conc_accuracy = shift_conc_df['ratio_accurate'].value_counts()[True] / len(shift_conc_df)"
      ],
      "metadata": {
        "colab": {
          "base_uri": "https://localhost:8080/"
        },
        "id": "28cXztstb3rU",
        "outputId": "c15c1e91-d1eb-4c06-c107-91b3ebc0d685"
      },
      "execution_count": 9,
      "outputs": [
        {
          "output_type": "stream",
          "name": "stdout",
          "text": [
            "True     2006\n",
            "False     841\n",
            "Name: ratio_accurate, dtype: int64\n",
            "accuracy:  0.7046013347383211 with  2847 samples\n"
          ]
        }
      ]
    },
    {
      "cell_type": "code",
      "source": [
        "#@title english data stuff\n",
        "# print(\"accuracy w/o syn: \", shift_conc_df[shift_conc_df['Type of change']!='synaesthesia']['ratio_accurate'].value_counts()[True] / len(shift_conc_df[shift_conc_df['Type of change']!='synaesthesia']), \"with \", len(shift_conc_df[shift_conc_df['Type of change']!='synaesthesia']) , \"samples\")\n",
        "# accuracy_df = pd.DataFrame()\n",
        "# accuracy_df['accuracy'] = shift_conc_df.groupby('Type of change').sum()['ratio_accurate'] / shift_conc_df.groupby('Type of change').size()\n",
        "# accuracy_df['realizations'] = shift_conc_df.groupby('Type of change').size()\n",
        "# print(accuracy_df.to_latex(index=True))"
      ],
      "metadata": {
        "id": "kd-cVigzXqd8",
        "cellView": "form"
      },
      "execution_count": 10,
      "outputs": []
    },
    {
      "cell_type": "code",
      "source": [
        "# test prior accuracy\n",
        "\n",
        "# merge freqreteness with shift df\n",
        "freq_sense_df = pd.DataFrame.from_dict(freq_dic, orient='index').reset_index().rename(columns={'index':'Word', 0:'freq'})\n",
        "shift_freq_df = reduce(lambda  left,right: pd.merge(left,right,left_on='meaning1',right_on='Word', how='left'), [sem_shift_df, freq_sense_df])\n",
        "shift_freq_df = reduce(lambda  left,right: pd.merge(left,right,left_on='meaning2',right_on='Word', how='left'), [shift_freq_df, freq_sense_df])\n",
        "\n",
        "# calculate ratio and find accuracy\n",
        "shift_freq_df['ratio'] = shift_freq_df['freq_x'] / shift_freq_df['freq_y']\n",
        "shift_freq_df = shift_freq_df[~np.isnan(shift_freq_df['ratio'])]\n",
        "shift_freq_df['ratio_accurate'] = shift_freq_df['ratio'] > 1\n",
        "print(shift_freq_df['ratio_accurate'].value_counts())\n",
        "print(\"accuracy: \", shift_freq_df['ratio_accurate'].value_counts()[True] / len(shift_freq_df), \"with \", len(shift_freq_df) , \"samples\")\n",
        "freq_accuracy = shift_freq_df['ratio_accurate'].value_counts()[True] / len(shift_freq_df)"
      ],
      "metadata": {
        "colab": {
          "base_uri": "https://localhost:8080/"
        },
        "id": "e5gHJMeWubx6",
        "outputId": "67e056ca-c0b8-4c38-b332-8c8cf5709118"
      },
      "execution_count": 11,
      "outputs": [
        {
          "output_type": "stream",
          "name": "stdout",
          "text": [
            "True     1489\n",
            "False    1383\n",
            "Name: ratio_accurate, dtype: int64\n",
            "accuracy:  0.5184540389972145 with  2872 samples\n"
          ]
        }
      ]
    },
    {
      "cell_type": "code",
      "source": [
        "#@title english data stuff\n",
        "# print(\"accuracy w/o syn: \", shift_freq_df[shift_freq_df['Type of change']!='synaesthesia']['ratio_accurate'].value_counts()[True] / len(shift_freq_df[shift_freq_df['Type of change']!='synaesthesia']), \"with \", len(shift_freq_df[shift_freq_df['Type of change']!='synaesthesia']) , \"samples\")\n",
        "# accuracy_df = pd.DataFrame()\n",
        "# accuracy_df['accuracy'] = shift_freq_df.groupby('Type of change').sum()['ratio_accurate'] / shift_freq_df.groupby('Type of change').size()\n",
        "# accuracy_df['realizations'] = shift_freq_df.groupby('Type of change').size()\n",
        "# print(accuracy_df.to_latex(index=True))"
      ],
      "metadata": {
        "id": "OZdQSa2FY7HC",
        "cellView": "form"
      },
      "execution_count": 12,
      "outputs": []
    },
    {
      "cell_type": "code",
      "source": [
        "# test prior accuracy\n",
        "\n",
        "# merge valreteness with shift df\n",
        "val_sense_df = pd.DataFrame.from_dict(val_dic, orient='index').reset_index().rename(columns={'index':'Word', 0:'val'})\n",
        "shift_val_df = reduce(lambda  left,right: pd.merge(left,right,left_on='meaning1',right_on='Word', how='left'), [sem_shift_df, val_sense_df])\n",
        "shift_val_df = reduce(lambda  left,right: pd.merge(left,right,left_on='meaning2',right_on='Word', how='left'), [shift_val_df, val_sense_df])\n",
        "\n",
        "# calculate ratio and find accuracy\n",
        "shift_val_df['ratio'] = shift_val_df['val_x'] / shift_val_df['val_y']\n",
        "shift_val_df = shift_val_df[~np.isnan(shift_val_df['ratio'])]\n",
        "shift_val_df['ratio_accurate'] = shift_val_df['ratio'] > 1\n",
        "print(shift_val_df['ratio_accurate'].value_counts())\n",
        "print(\"accuracy: \", shift_val_df['ratio_accurate'].value_counts()[True] / len(shift_val_df), \"with \", len(shift_val_df) , \"samples\")\n",
        "val_accuracy = shift_val_df['ratio_accurate'].value_counts()[True] / len(shift_val_df)"
      ],
      "metadata": {
        "colab": {
          "base_uri": "https://localhost:8080/"
        },
        "id": "IMJAafOG5chU",
        "outputId": "450a199b-0dce-40ae-c357-49ba9a5974d8"
      },
      "execution_count": 13,
      "outputs": [
        {
          "output_type": "stream",
          "name": "stdout",
          "text": [
            "True     1333\n",
            "False    1298\n",
            "Name: ratio_accurate, dtype: int64\n",
            "accuracy:  0.5066514633219308 with  2631 samples\n"
          ]
        }
      ]
    },
    {
      "cell_type": "code",
      "source": [
        "#@title english data stuff\n",
        "\n",
        "# print(\"accuracy w/o syn: \", shift_val_df[shift_val_df['Type of change']!='synaesthesia']['ratio_accurate'].value_counts()[True] / len(shift_val_df[shift_val_df['Type of change']!='synaesthesia']), \"with \", len(shift_val_df[shift_val_df['Type of change']!='synaesthesia']) , \"samples\")\n",
        "\n",
        "# accuracy_df = pd.DataFrame()\n",
        "# accuracy_df['accuracy'] = shift_val_df.groupby('Type of change').sum()['ratio_accurate'] / shift_val_df.groupby('Type of change').size()\n",
        "# accuracy_df['realizations'] = shift_val_df.groupby('Type of change').size()\n",
        "# print(accuracy_df.to_latex(index=True))"
      ],
      "metadata": {
        "id": "mSQ5ZqOqZEYH",
        "cellView": "form"
      },
      "execution_count": 14,
      "outputs": []
    },
    {
      "cell_type": "markdown",
      "source": [
        "## logistic regression"
      ],
      "metadata": {
        "id": "pkmNf7XBcxDa"
      }
    },
    {
      "cell_type": "code",
      "source": [
        "shift_df = sem_shift_df[['meaning1', 'meaning2']]\n",
        "\n",
        "# choose which are going to shift\n",
        "indices = list(range(len(shift_df)))\n",
        "r.shuffle(indices)\n",
        "switch_indices = indices[:int(len(shift_df)/2)]\n",
        "\n",
        "# set the accuracy column\n",
        "shift_df['accurate'] = pd.Series(dtype='boolean')\n",
        "shift_df.loc[switch_indices, 'accurate'] = False\n",
        "shift_df.loc[indices[int(len(shift_df)/2):], 'accurate'] = True\n",
        "\n",
        "shift_df.loc[switch_indices, 'meaning1'] = sem_shift_df.loc[switch_indices, 'meaning2']\n",
        "shift_df.loc[switch_indices, 'meaning2'] = sem_shift_df.loc[switch_indices, 'meaning1']"
      ],
      "metadata": {
        "id": "JQLzogy_aJ0c"
      },
      "execution_count": 115,
      "outputs": []
    },
    {
      "cell_type": "code",
      "source": [
        "# merge in freq/conc/val data\n",
        "\n",
        "shift_df = reduce(lambda  left,right: pd.merge(left,right,left_on='meaning1',right_on='Word', how='left'), [shift_df, conc_sense_df]).drop('Word', axis=1)\n",
        "shift_df = reduce(lambda  left,right: pd.merge(left,right,left_on='meaning2',right_on='Word', how='left'), [shift_df, conc_sense_df]).drop('Word', axis=1)\n",
        "shift_df = reduce(lambda  left,right: pd.merge(left,right,left_on='meaning1',right_on='Word', how='left'), [shift_df, freq_sense_df]).drop('Word', axis=1)\n",
        "shift_df = reduce(lambda  left,right: pd.merge(left,right,left_on='meaning2',right_on='Word', how='left'), [shift_df, freq_sense_df]).drop('Word', axis=1)\n",
        "shift_df = reduce(lambda  left,right: pd.merge(left,right,left_on='meaning1',right_on='Word', how='left'), [shift_df, val_sense_df]).drop('Word', axis=1)\n",
        "shift_df = reduce(lambda  left,right: pd.merge(left,right,left_on='meaning2',right_on='Word', how='left'), [shift_df, val_sense_df]).drop('Word', axis=1)"
      ],
      "metadata": {
        "id": "PgzNGF8hUSc2"
      },
      "execution_count": 116,
      "outputs": []
    },
    {
      "cell_type": "code",
      "source": [
        "# filter the dataframe and add various test columns \n",
        "\n",
        "shift_df = shift_df.dropna()\n",
        "\n",
        "shift_df['freq_x'] = np.log(shift_df['freq_x'])\n",
        "shift_df['freq_y'] = np.log(shift_df['freq_y'])\n",
        "\n",
        "shift_df['conc_diff'] = shift_df['conc_y'] - shift_df['conc_x']\n",
        "shift_df['freq_diff'] = shift_df['conc_y'] - shift_df['freq_x']\n",
        "shift_df['val_diff'] = shift_df['val_y'] - shift_df['val_x']\n",
        "\n",
        "shift_df['conc_ratio'] = shift_df['conc_x'] / shift_df['conc_y']\n",
        "shift_df['freq_ratio'] = shift_df['freq_x'] / shift_df['freq_y']\n",
        "shift_df['val_ratio'] = shift_df['val_x'] / shift_df['val_y']\n",
        "\n",
        "shift_df['conc_acc'] = shift_df['conc_ratio'] > 1\n",
        "shift_df['freq_acc'] = shift_df['freq_ratio'] > 1\n",
        "shift_df['val_acc'] = shift_df['val_ratio'] > 1"
      ],
      "metadata": {
        "id": "OXDdEcqxVdzR"
      },
      "execution_count": 117,
      "outputs": []
    },
    {
      "cell_type": "code",
      "source": [
        "# run logistic regression\n",
        "\n",
        "X = shift_df[['conc_acc', 'freq_acc', 'val_acc']].copy().to_numpy()\n",
        "y = shift_df['accurate'].copy().to_numpy()\n",
        "y = y.astype(int)\n",
        "\n",
        "X_train, X_test, y_train, y_test = train_test_split(X, y, test_size = 0.2)\n",
        "\n",
        "model = LogisticRegression(solver='liblinear', random_state=0).fit(X_train, y_train)\n",
        "\n",
        "log_accuracy = model.score(X_test,y_test)"
      ],
      "metadata": {
        "id": "PCpL0bUFW1MT"
      },
      "execution_count": 118,
      "outputs": []
    },
    {
      "cell_type": "markdown",
      "source": [
        "## figures"
      ],
      "metadata": {
        "id": "oZrc3paDczsd"
      }
    },
    {
      "cell_type": "code",
      "source": [
        "#@title FIG 1.D -- Direction Accuracy\n",
        "\n",
        "heights = [conc_accuracy, freq_accuracy, val_accuracy, log_accuracy]\n",
        "heights = [round(i*100, 1) for i in heights]\n",
        "\n",
        "x = np.arange(len(heights))  # the label locations\n",
        "\n",
        "fig, ax = plt.subplots()\n",
        "rects = ax.bar(x, heights)\n",
        "\n",
        "# # Add some text for labels, title and custom x-axis tick labels, etc.\n",
        "ax.set_ylabel('Accuracy (%)')\n",
        "ax.set_title('Direction Accuracy')\n",
        "ax.set_xticks(x, labels=['Concreteness', 'Frequency', 'Valence', 'Combined'])\n",
        "ax.bar_label(rects, padding=3)\n",
        "ax.set_ylim(0, 85)\n",
        "\n",
        "ax.axhline(50, linestyle='--', c='navy')\n",
        "\n",
        "plt.show()"
      ],
      "metadata": {
        "colab": {
          "base_uri": "https://localhost:8080/",
          "height": 281
        },
        "id": "ehO01hULci4v",
        "outputId": "1345fcb7-95f7-4a6d-a664-d4b66d93ba05"
      },
      "execution_count": 119,
      "outputs": [
        {
          "output_type": "display_data",
          "data": {
            "text/plain": [
              "<Figure size 432x288 with 1 Axes>"
            ],
            "image/png": "[encoded data removed]"
          },
          "metadata": {
            "needs_background": "light"
          }
        }
      ]
    },
    {
      "cell_type": "markdown",
      "source": [
        "# so much stuff that probably doesn't matter anymore"
      ],
      "metadata": {
        "id": "qvVS1i5eKwA3"
      }
    },
    {
      "cell_type": "markdown",
      "source": [
        "## accuracy for concreteness, frequency, and valence\n",
        "\n",
        "#### on cleaned data\n",
        "NOT conservative:\n",
        "* 68.5 with 2849 samples\n",
        "* 51.6 with 2874 samples\n",
        "* 50.6 with 2631 samples\n",
        "\n",
        "conservative:\n",
        "* 73.5 with 1048 samples\n",
        "* 54.8 with 1013 samples\n",
        "* 55.3 with 889 samples"
      ],
      "metadata": {
        "id": "a02WRO0p-3tI"
      }
    },
    {
      "cell_type": "markdown",
      "source": [
        "## testing logsistic regression"
      ],
      "metadata": {
        "id": "bJq68orx4rs5"
      }
    },
    {
      "cell_type": "code",
      "source": [
        "# normalize\n",
        "\n",
        "from scipy.special import softmax\n",
        "\n",
        "conc_sense_df['normalized_conc'] = conc_sense_df['conc'] # softmax(conc_sense_df['conc'])\n",
        "freq_sense_df['normalized_freq'] = np.log(freq_sense_df['freq']) # softmax(freq_sense_df['freq'])\n",
        "val_sense_df['normalized_val'] = val_sense_df['val'] # softmax(conc_sense_df['conc'])"
      ],
      "metadata": {
        "colab": {
          "base_uri": "https://localhost:8080/"
        },
        "id": "cG1b92QuzYhq",
        "outputId": "984a7be1-b7a9-461f-bbee-30db398aad69"
      },
      "execution_count": null,
      "outputs": [
        {
          "output_type": "stream",
          "name": "stderr",
          "text": [
            "/usr/local/lib/python3.7/dist-packages/pandas/core/arraylike.py:364: RuntimeWarning: divide by zero encountered in log\n",
            "  result = getattr(ufunc, method)(*inputs, **kwargs)\n"
          ]
        }
      ]
    },
    {
      "cell_type": "code",
      "source": [
        "shift_vars_df = reduce(lambda  left,right: pd.merge(left,right,left_on='meaning1',right_on='Word', how='left'), [sem_shift_df, conc_sense_df])\n",
        "shift_vars_df = reduce(lambda  left,right: pd.merge(left,right,left_on='meaning2',right_on='Word', how='left'), [shift_vars_df, conc_sense_df])\n",
        "shift_vars_df = reduce(lambda  left,right: pd.merge(left,right,left_on='meaning1',right_on='Word', how='left'), [shift_vars_df, freq_sense_df])\n",
        "shift_vars_df = reduce(lambda  left,right: pd.merge(left,right,left_on='meaning2',right_on='Word', how='left'), [shift_vars_df, freq_sense_df])\n",
        "shift_vars_df = reduce(lambda  left,right: pd.merge(left,right,left_on='meaning1',right_on='Word', how='left'), [shift_vars_df, val_sense_df])\n",
        "shift_vars_df = reduce(lambda  left,right: pd.merge(left,right,left_on='meaning2',right_on='Word', how='left'), [shift_vars_df, val_sense_df])\n",
        "\n",
        "shift_vars_df['freq_diff'] = shift_vars_df['normalized_freq_y'] - shift_vars_df['normalized_freq_x']\n",
        "shift_vars_df['conc_diff'] = shift_vars_df['normalized_conc_y'] - shift_vars_df['normalized_conc_x']\n",
        "shift_vars_df['val_diff'] = shift_vars_df['normalized_val_y'] - shift_vars_df['normalized_val_x']\n",
        "\n",
        "shift_vars_df['freq_ratio'] = shift_vars_df['normalized_freq_x']/ shift_vars_df['normalized_freq_y']\n",
        "shift_vars_df['conc_ratio'] = shift_vars_df['normalized_conc_x']/shift_vars_df['normalized_conc_y']\n",
        "shift_vars_df['val_ratio'] = shift_vars_df['normalized_val_x']/shift_vars_df['normalized_val_y']"
      ],
      "metadata": {
        "colab": {
          "base_uri": "https://localhost:8080/"
        },
        "id": "Z2fTJqtd1Fr1",
        "outputId": "c9d4b8ce-29b6-402d-d42b-e42d047413f4"
      },
      "execution_count": null,
      "outputs": [
        {
          "output_type": "stream",
          "name": "stderr",
          "text": [
            "/usr/local/lib/python3.7/dist-packages/ipykernel_launcher.py:4: FutureWarning: Passing 'suffixes' which cause duplicate columns {'Word_x'} in the result is deprecated and will raise a MergeError in a future version.\n",
            "  after removing the cwd from sys.path.\n",
            "/usr/local/lib/python3.7/dist-packages/ipykernel_launcher.py:6: FutureWarning: Passing 'suffixes' which cause duplicate columns {'Word_x'} in the result is deprecated and will raise a MergeError in a future version.\n",
            "  \n"
          ]
        }
      ]
    },
    {
      "cell_type": "code",
      "source": [
        "shift_vars_df"
      ],
      "metadata": {
        "colab": {
          "base_uri": "https://localhost:8080/",
          "height": 626
        },
        "id": "SVtezwSAa35G",
        "outputId": "8e840b74-4bf8-43e0-cfd6-2e1f0563c83b"
      },
      "execution_count": null,
      "outputs": [
        {
          "output_type": "execute_result",
          "data": {
            "text/plain": [
              "      Unnamed: 0         meaning1                     meaning2  \\\n",
              "0              0        gunpowder                        quick   \n",
              "1              1        gunpowder  small quantity of something   \n",
              "2              2           August                      harvest   \n",
              "3              3      common weed                       potato   \n",
              "4              4           Easter                     ladybird   \n",
              "...          ...              ...                          ...   \n",
              "2936        2936        young man                      soldier   \n",
              "2937        2937  younger brother                        bear    \n",
              "2938        2938  younger brother                      husband   \n",
              "2939        2939  younger brother                        owner   \n",
              "2940        2940            zebra          pedestrian crossing   \n",
              "\n",
              "       meaning1_clean               meaning2_clean           Word_x  conc_x  \\\n",
              "0           gunpowder                        quick        gunpowder   4.790   \n",
              "1           gunpowder  small quantity of something        gunpowder   4.790   \n",
              "2              August                      harvest           August   3.040   \n",
              "3         common weed                       potato      common weed   3.485   \n",
              "4              Easter                     ladybird           Easter   2.830   \n",
              "...               ...                          ...              ...     ...   \n",
              "2936        young man                      soldier        young man   3.975   \n",
              "2937  younger brother                        bear   younger brother   3.610   \n",
              "2938  younger brother                      husband  younger brother   3.610   \n",
              "2939  younger brother                        owner  younger brother   3.610   \n",
              "2940            zebra          pedestrian crossing            zebra   4.860   \n",
              "\n",
              "      normalized_conc_x                       Word_y  conc_y  ...  \\\n",
              "0                 4.790                        quick   2.890  ...   \n",
              "1                 4.790  small quantity of something   2.670  ...   \n",
              "2                 3.040                      harvest   4.000  ...   \n",
              "3                 3.485                       potato   4.850  ...   \n",
              "4                 2.830                     ladybird   4.760  ...   \n",
              "...                 ...                          ...     ...  ...   \n",
              "2936              3.975                      soldier   4.720  ...   \n",
              "2937              3.610                        bear    4.880  ...   \n",
              "2938              3.610                      husband   4.110  ...   \n",
              "2939              3.610                        owner   3.780  ...   \n",
              "2940              4.860          pedestrian crossing   3.915  ...   \n",
              "\n",
              "      normalized_val_x                       Word_y   val_y  normalized_val_y  \\\n",
              "0               0.4250                        quick  0.7040            0.7040   \n",
              "1               0.4250  small quantity of something  0.5310            0.5310   \n",
              "2               0.6520                      harvest  0.7810            0.7810   \n",
              "3               0.5295                       potato  0.5410            0.5410   \n",
              "4                  NaN                          NaN     NaN               NaN   \n",
              "...                ...                          ...     ...               ...   \n",
              "2936               NaN                      soldier  0.3920            0.3920   \n",
              "2937            0.8230                        bear   0.4480            0.4480   \n",
              "2938            0.8230                      husband  0.7710            0.7710   \n",
              "2939            0.8230                        owner  0.7760            0.7760   \n",
              "2940            0.5670          pedestrian crossing  0.4935            0.4935   \n",
              "\n",
              "     freq_diff  conc_diff  val_diff freq_ratio  conc_ratio  val_ratio  \n",
              "0     5.283445     -1.900    0.2790   0.414325    1.657439   0.603693  \n",
              "1     7.910774     -2.120    0.1060   0.320873    1.794007   0.800377  \n",
              "2    -2.597417      0.960    0.1290   1.447667    0.760000   0.834827  \n",
              "3    -2.386797      1.365    0.0115   1.359393    0.718557   0.978743  \n",
              "4          NaN      1.930       NaN        NaN    0.594538        NaN  \n",
              "...        ...        ...       ...        ...         ...        ...  \n",
              "2936 -3.547499      0.745       NaN   1.442809    0.842161        NaN  \n",
              "2937 -1.931580      1.270   -0.3750   1.254666    0.739754   1.837054  \n",
              "2938  0.041258      0.500   -0.0520   0.995683    0.878345   1.067445  \n",
              "2939 -1.556728      0.170   -0.0470   1.195578    0.955026   1.060567  \n",
              "2940  2.217225     -0.945   -0.0735   0.662061    1.241379   1.148936  \n",
              "\n",
              "[2941 rows x 29 columns]"
            ],
            "text/html": [
              "\n",
              "  <div id=\"df-3d7c48ab-3abd-49de-92c4-1a5f71b92b29\">\n",
              "    <div class=\"colab-df-container\">\n",
              "      <div>\n",
              "<style scoped>\n",
              "    .dataframe tbody tr th:only-of-type {\n",
              "        vertical-align: middle;\n",
              "    }\n",
              "\n",
              "    .dataframe tbody tr th {\n",
              "        vertical-align: top;\n",
              "    }\n",
              "\n",
              "    .dataframe thead th {\n",
              "        text-align: right;\n",
              "    }\n",
              "</style>\n",
              "<table border=\"1\" class=\"dataframe\">\n",
              "  <thead>\n",
              "    <tr style=\"text-align: right;\">\n",
              "      <th></th>\n",
              "      <th>Unnamed: 0</th>\n",
              "      <th>meaning1</th>\n",
              "      <th>meaning2</th>\n",
              "      <th>meaning1_clean</th>\n",
              "      <th>meaning2_clean</th>\n",
              "      <th>Word_x</th>\n",
              "      <th>conc_x</th>\n",
              "      <th>normalized_conc_x</th>\n",
              "      <th>Word_y</th>\n",
              "      <th>conc_y</th>\n",
              "      <th>...</th>\n",
              "      <th>normalized_val_x</th>\n",
              "      <th>Word_y</th>\n",
              "      <th>val_y</th>\n",
              "      <th>normalized_val_y</th>\n",
              "      <th>freq_diff</th>\n",
              "      <th>conc_diff</th>\n",
              "      <th>val_diff</th>\n",
              "      <th>freq_ratio</th>\n",
              "      <th>conc_ratio</th>\n",
              "      <th>val_ratio</th>\n",
              "    </tr>\n",
              "  </thead>\n",
              "  <tbody>\n",
              "    <tr>\n",
              "      <th>0</th>\n",
              "      <td>0</td>\n",
              "      <td>gunpowder</td>\n",
              "      <td>quick</td>\n",
              "      <td>gunpowder</td>\n",
              "      <td>quick</td>\n",
              "      <td>gunpowder</td>\n",
              "      <td>4.790</td>\n",
              "      <td>4.790</td>\n",
              "      <td>quick</td>\n",
              "      <td>2.890</td>\n",
              "      <td>...</td>\n",
              "      <td>0.4250</td>\n",
              "      <td>quick</td>\n",
              "      <td>0.7040</td>\n",
              "      <td>0.7040</td>\n",
              "      <td>5.283445</td>\n",
              "      <td>-1.900</td>\n",
              "      <td>0.2790</td>\n",
              "      <td>0.414325</td>\n",
              "      <td>1.657439</td>\n",
              "      <td>0.603693</td>\n",
              "    </tr>\n",
              "    <tr>\n",
              "      <th>1</th>\n",
              "      <td>1</td>\n",
              "      <td>gunpowder</td>\n",
              "      <td>small quantity of something</td>\n",
              "      <td>gunpowder</td>\n",
              "      <td>small quantity of something</td>\n",
              "      <td>gunpowder</td>\n",
              "      <td>4.790</td>\n",
              "      <td>4.790</td>\n",
              "      <td>small quantity of something</td>\n",
              "      <td>2.670</td>\n",
              "      <td>...</td>\n",
              "      <td>0.4250</td>\n",
              "      <td>small quantity of something</td>\n",
              "      <td>0.5310</td>\n",
              "      <td>0.5310</td>\n",
              "      <td>7.910774</td>\n",
              "      <td>-2.120</td>\n",
              "      <td>0.1060</td>\n",
              "      <td>0.320873</td>\n",
              "      <td>1.794007</td>\n",
              "      <td>0.800377</td>\n",
              "    </tr>\n",
              "    <tr>\n",
              "      <th>2</th>\n",
              "      <td>2</td>\n",
              "      <td>August</td>\n",
              "      <td>harvest</td>\n",
              "      <td>August</td>\n",
              "      <td>harvest</td>\n",
              "      <td>August</td>\n",
              "      <td>3.040</td>\n",
              "      <td>3.040</td>\n",
              "      <td>harvest</td>\n",
              "      <td>4.000</td>\n",
              "      <td>...</td>\n",
              "      <td>0.6520</td>\n",
              "      <td>harvest</td>\n",
              "      <td>0.7810</td>\n",
              "      <td>0.7810</td>\n",
              "      <td>-2.597417</td>\n",
              "      <td>0.960</td>\n",
              "      <td>0.1290</td>\n",
              "      <td>1.447667</td>\n",
              "      <td>0.760000</td>\n",
              "      <td>0.834827</td>\n",
              "    </tr>\n",
              "    <tr>\n",
              "      <th>3</th>\n",
              "      <td>3</td>\n",
              "      <td>common weed</td>\n",
              "      <td>potato</td>\n",
              "      <td>common weed</td>\n",
              "      <td>potato</td>\n",
              "      <td>common weed</td>\n",
              "      <td>3.485</td>\n",
              "      <td>3.485</td>\n",
              "      <td>potato</td>\n",
              "      <td>4.850</td>\n",
              "      <td>...</td>\n",
              "      <td>0.5295</td>\n",
              "      <td>potato</td>\n",
              "      <td>0.5410</td>\n",
              "      <td>0.5410</td>\n",
              "      <td>-2.386797</td>\n",
              "      <td>1.365</td>\n",
              "      <td>0.0115</td>\n",
              "      <td>1.359393</td>\n",
              "      <td>0.718557</td>\n",
              "      <td>0.978743</td>\n",
              "    </tr>\n",
              "    <tr>\n",
              "      <th>4</th>\n",
              "      <td>4</td>\n",
              "      <td>Easter</td>\n",
              "      <td>ladybird</td>\n",
              "      <td>Easter</td>\n",
              "      <td>ladybird</td>\n",
              "      <td>Easter</td>\n",
              "      <td>2.830</td>\n",
              "      <td>2.830</td>\n",
              "      <td>ladybird</td>\n",
              "      <td>4.760</td>\n",
              "      <td>...</td>\n",
              "      <td>NaN</td>\n",
              "      <td>NaN</td>\n",
              "      <td>NaN</td>\n",
              "      <td>NaN</td>\n",
              "      <td>NaN</td>\n",
              "      <td>1.930</td>\n",
              "      <td>NaN</td>\n",
              "      <td>NaN</td>\n",
              "      <td>0.594538</td>\n",
              "      <td>NaN</td>\n",
              "    </tr>\n",
              "    <tr>\n",
              "      <th>...</th>\n",
              "      <td>...</td>\n",
              "      <td>...</td>\n",
              "      <td>...</td>\n",
              "      <td>...</td>\n",
              "      <td>...</td>\n",
              "      <td>...</td>\n",
              "      <td>...</td>\n",
              "      <td>...</td>\n",
              "      <td>...</td>\n",
              "      <td>...</td>\n",
              "      <td>...</td>\n",
              "      <td>...</td>\n",
              "      <td>...</td>\n",
              "      <td>...</td>\n",
              "      <td>...</td>\n",
              "      <td>...</td>\n",
              "      <td>...</td>\n",
              "      <td>...</td>\n",
              "      <td>...</td>\n",
              "      <td>...</td>\n",
              "      <td>...</td>\n",
              "    </tr>\n",
              "    <tr>\n",
              "      <th>2936</th>\n",
              "      <td>2936</td>\n",
              "      <td>young man</td>\n",
              "      <td>soldier</td>\n",
              "      <td>young man</td>\n",
              "      <td>soldier</td>\n",
              "      <td>young man</td>\n",
              "      <td>3.975</td>\n",
              "      <td>3.975</td>\n",
              "      <td>soldier</td>\n",
              "      <td>4.720</td>\n",
              "      <td>...</td>\n",
              "      <td>NaN</td>\n",
              "      <td>soldier</td>\n",
              "      <td>0.3920</td>\n",
              "      <td>0.3920</td>\n",
              "      <td>-3.547499</td>\n",
              "      <td>0.745</td>\n",
              "      <td>NaN</td>\n",
              "      <td>1.442809</td>\n",
              "      <td>0.842161</td>\n",
              "      <td>NaN</td>\n",
              "    </tr>\n",
              "    <tr>\n",
              "      <th>2937</th>\n",
              "      <td>2937</td>\n",
              "      <td>younger brother</td>\n",
              "      <td>bear</td>\n",
              "      <td>younger brother</td>\n",
              "      <td>bear</td>\n",
              "      <td>younger brother</td>\n",
              "      <td>3.610</td>\n",
              "      <td>3.610</td>\n",
              "      <td>bear</td>\n",
              "      <td>4.880</td>\n",
              "      <td>...</td>\n",
              "      <td>0.8230</td>\n",
              "      <td>bear</td>\n",
              "      <td>0.4480</td>\n",
              "      <td>0.4480</td>\n",
              "      <td>-1.931580</td>\n",
              "      <td>1.270</td>\n",
              "      <td>-0.3750</td>\n",
              "      <td>1.254666</td>\n",
              "      <td>0.739754</td>\n",
              "      <td>1.837054</td>\n",
              "    </tr>\n",
              "    <tr>\n",
              "      <th>2938</th>\n",
              "      <td>2938</td>\n",
              "      <td>younger brother</td>\n",
              "      <td>husband</td>\n",
              "      <td>younger brother</td>\n",
              "      <td>husband</td>\n",
              "      <td>younger brother</td>\n",
              "      <td>3.610</td>\n",
              "      <td>3.610</td>\n",
              "      <td>husband</td>\n",
              "      <td>4.110</td>\n",
              "      <td>...</td>\n",
              "      <td>0.8230</td>\n",
              "      <td>husband</td>\n",
              "      <td>0.7710</td>\n",
              "      <td>0.7710</td>\n",
              "      <td>0.041258</td>\n",
              "      <td>0.500</td>\n",
              "      <td>-0.0520</td>\n",
              "      <td>0.995683</td>\n",
              "      <td>0.878345</td>\n",
              "      <td>1.067445</td>\n",
              "    </tr>\n",
              "    <tr>\n",
              "      <th>2939</th>\n",
              "      <td>2939</td>\n",
              "      <td>younger brother</td>\n",
              "      <td>owner</td>\n",
              "      <td>younger brother</td>\n",
              "      <td>owner</td>\n",
              "      <td>younger brother</td>\n",
              "      <td>3.610</td>\n",
              "      <td>3.610</td>\n",
              "      <td>owner</td>\n",
              "      <td>3.780</td>\n",
              "      <td>...</td>\n",
              "      <td>0.8230</td>\n",
              "      <td>owner</td>\n",
              "      <td>0.7760</td>\n",
              "      <td>0.7760</td>\n",
              "      <td>-1.556728</td>\n",
              "      <td>0.170</td>\n",
              "      <td>-0.0470</td>\n",
              "      <td>1.195578</td>\n",
              "      <td>0.955026</td>\n",
              "      <td>1.060567</td>\n",
              "    </tr>\n",
              "    <tr>\n",
              "      <th>2940</th>\n",
              "      <td>2940</td>\n",
              "      <td>zebra</td>\n",
              "      <td>pedestrian crossing</td>\n",
              "      <td>zebra</td>\n",
              "      <td>pedestrian crossing</td>\n",
              "      <td>zebra</td>\n",
              "      <td>4.860</td>\n",
              "      <td>4.860</td>\n",
              "      <td>pedestrian crossing</td>\n",
              "      <td>3.915</td>\n",
              "      <td>...</td>\n",
              "      <td>0.5670</td>\n",
              "      <td>pedestrian crossing</td>\n",
              "      <td>0.4935</td>\n",
              "      <td>0.4935</td>\n",
              "      <td>2.217225</td>\n",
              "      <td>-0.945</td>\n",
              "      <td>-0.0735</td>\n",
              "      <td>0.662061</td>\n",
              "      <td>1.241379</td>\n",
              "      <td>1.148936</td>\n",
              "    </tr>\n",
              "  </tbody>\n",
              "</table>\n",
              "<p>2941 rows × 29 columns</p>\n",
              "</div>\n",
              "      <button class=\"colab-df-convert\" onclick=\"convertToInteractive('df-3d7c48ab-3abd-49de-92c4-1a5f71b92b29')\"\n",
              "              title=\"Convert this dataframe to an interactive table.\"\n",
              "              style=\"display:none;\">\n",
              "        \n",
              "  <svg xmlns=\"http://www.w3.org/2000/svg\" height=\"24px\"viewBox=\"0 0 24 24\"\n",
              "       width=\"24px\">\n",
              "    <path d=\"M0 0h24v24H0V0z\" fill=\"none\"/>\n",
              "    <path d=\"M18.56 5.44l.94 2.06.94-2.06 2.06-.94-2.06-.94-.94-2.06-.94 2.06-2.06.94zm-11 1L8.5 8.5l.94-2.06 2.06-.94-2.06-.94L8.5 2.5l-.94 2.06-2.06.94zm10 10l.94 2.06.94-2.06 2.06-.94-2.06-.94-.94-2.06-.94 2.06-2.06.94z\"/><path d=\"M17.41 7.96l-1.37-1.37c-.4-.4-.92-.59-1.43-.59-.52 0-1.04.2-1.43.59L10.3 9.45l-7.72 7.72c-.78.78-.78 2.05 0 2.83L4 21.41c.39.39.9.59 1.41.59.51 0 1.02-.2 1.41-.59l7.78-7.78 2.81-2.81c.8-.78.8-2.07 0-2.86zM5.41 20L4 18.59l7.72-7.72 1.47 1.35L5.41 20z\"/>\n",
              "  </svg>\n",
              "      </button>\n",
              "      \n",
              "  <style>\n",
              "    .colab-df-container {\n",
              "      display:flex;\n",
              "      flex-wrap:wrap;\n",
              "      gap: 12px;\n",
              "    }\n",
              "\n",
              "    .colab-df-convert {\n",
              "      background-color: #E8F0FE;\n",
              "      border: none;\n",
              "      border-radius: 50%;\n",
              "      cursor: pointer;\n",
              "      display: none;\n",
              "      fill: #1967D2;\n",
              "      height: 32px;\n",
              "      padding: 0 0 0 0;\n",
              "      width: 32px;\n",
              "    }\n",
              "\n",
              "    .colab-df-convert:hover {\n",
              "      background-color: #E2EBFA;\n",
              "      box-shadow: 0px 1px 2px rgba(60, 64, 67, 0.3), 0px 1px 3px 1px rgba(60, 64, 67, 0.15);\n",
              "      fill: #174EA6;\n",
              "    }\n",
              "\n",
              "    [theme=dark] .colab-df-convert {\n",
              "      background-color: #3B4455;\n",
              "      fill: #D2E3FC;\n",
              "    }\n",
              "\n",
              "    [theme=dark] .colab-df-convert:hover {\n",
              "      background-color: #434B5C;\n",
              "      box-shadow: 0px 1px 3px 1px rgba(0, 0, 0, 0.15);\n",
              "      filter: drop-shadow(0px 1px 2px rgba(0, 0, 0, 0.3));\n",
              "      fill: #FFFFFF;\n",
              "    }\n",
              "  </style>\n",
              "\n",
              "      <script>\n",
              "        const buttonEl =\n",
              "          document.querySelector('#df-3d7c48ab-3abd-49de-92c4-1a5f71b92b29 button.colab-df-convert');\n",
              "        buttonEl.style.display =\n",
              "          google.colab.kernel.accessAllowed ? 'block' : 'none';\n",
              "\n",
              "        async function convertToInteractive(key) {\n",
              "          const element = document.querySelector('#df-3d7c48ab-3abd-49de-92c4-1a5f71b92b29');\n",
              "          const dataTable =\n",
              "            await google.colab.kernel.invokeFunction('convertToInteractive',\n",
              "                                                     [key], {});\n",
              "          if (!dataTable) return;\n",
              "\n",
              "          const docLinkHtml = 'Like what you see? Visit the ' +\n",
              "            '<a target=\"_blank\" href=https://colab.research.google.com/notebooks/data_table.ipynb>data table notebook</a>'\n",
              "            + ' to learn more about interactive tables.';\n",
              "          element.innerHTML = '';\n",
              "          dataTable['output_type'] = 'display_data';\n",
              "          await google.colab.output.renderOutput(dataTable, element);\n",
              "          const docLink = document.createElement('div');\n",
              "          docLink.innerHTML = docLinkHtml;\n",
              "          element.appendChild(docLink);\n",
              "        }\n",
              "      </script>\n",
              "    </div>\n",
              "  </div>\n",
              "  "
            ]
          },
          "metadata": {},
          "execution_count": 96
        }
      ]
    },
    {
      "cell_type": "code",
      "source": [
        "shift_vars_df = shift_vars_df[~shift_vars_df[['freq_ratio', 'conc_ratio', 'val_ratio']].isin([np.nan, np.inf, -np.inf]).any(1)]"
      ],
      "metadata": {
        "id": "iULJDVFmd_Pe"
      },
      "execution_count": null,
      "outputs": []
    },
    {
      "cell_type": "code",
      "source": [
        "import random\n",
        "\n",
        "#df = shift_vars_df_filtered[['meaning1', 'meaning2', 'conc_diff', 'freq_diff', 'conc_ratio', 'freq_ratio']]\n",
        "df = shift_vars_df\n",
        "\n",
        "indices = list(range(len(df)))\n",
        "random.shuffle(indices)\n",
        "switch_indices = indices[:int(len(df)/2)]\n",
        "\n",
        "left_df = df.iloc[switch_indices].copy()\n",
        "left_df.loc[:,'meaning2'] = df['meaning1']\n",
        "left_df.loc[:,'meaning1'] = df['meaning2']\n",
        "left_df.loc[:,'conc_ratio'] = 1/left_df['conc_ratio']\n",
        "left_df.loc[:,'freq_ratio'] = 1/left_df['freq_ratio']\n",
        "left_df.loc[:,'val_ratio'] = 1/left_df['val_ratio']\n",
        "left_df.loc[:,'accurate'] = False\n",
        "\n",
        "right_df = df.iloc[indices[int(len(df)/2):]].copy()\n",
        "right_df.loc[:,'accurate'] = True\n",
        "\n",
        "shuffled_df = pd.concat([left_df, right_df]).sort_index()\n",
        "\n",
        "shuffled_df = shuffled_df[~np.isinf(shuffled_df['freq_ratio']) & ~(np.isinf(shuffled_df['conc_ratio']))]"
      ],
      "metadata": {
        "id": "R4cQBEyj4Kka"
      },
      "execution_count": null,
      "outputs": []
    },
    {
      "cell_type": "code",
      "source": [
        "shuffled_df = shuffled_df[shuffled_df['Type of change']!='synaesthesia']"
      ],
      "metadata": {
        "id": "LFD2EXDCfdri"
      },
      "execution_count": null,
      "outputs": []
    },
    {
      "cell_type": "code",
      "source": [
        "len(shuffled_df)"
      ],
      "metadata": {
        "colab": {
          "base_uri": "https://localhost:8080/"
        },
        "id": "kM4VIdj7fwsF",
        "outputId": "95a177e5-97ed-4f15-abdc-bc79d3e5ced3"
      },
      "execution_count": null,
      "outputs": [
        {
          "output_type": "execute_result",
          "data": {
            "text/plain": [
              "2573"
            ]
          },
          "metadata": {},
          "execution_count": 99
        }
      ]
    },
    {
      "cell_type": "code",
      "source": [
        "# logistic regression\n",
        "\n",
        "from sklearn.linear_model import LogisticRegression\n",
        "from sklearn.metrics import confusion_matrix\n",
        "\n",
        "shuffled_df['conc'] = np.where(shuffled_df['conc_ratio']>1, 1, 0)\n",
        "shuffled_df['freq'] = np.where(shuffled_df['freq_ratio']>1, 1, 0)\n",
        "shuffled_df['val'] = np.where(shuffled_df['val_ratio']>1, 1, 0)\n",
        "\n",
        "X = shuffled_df[['conc_ratio', 'freq_ratio', 'val_ratio']].copy().to_numpy()\n",
        "y = shuffled_df['accurate'].copy().to_numpy()\n",
        "\n",
        "acc = 0\n",
        "coefs = [0,0,0]\n",
        "\n",
        "for i in range(10):\n",
        "\n",
        "  X_train, X_test, y_train, y_test = train_test_split(X, y, test_size = 0.2)\n",
        "\n",
        "  model = LogisticRegression(solver='liblinear', class_weight='balanced').fit(X_train, y_train)\n",
        "\n",
        "  acc += model.score(X_test, y_test)\n",
        "\n",
        "  coefs += model.coef_\n",
        "\n",
        "acc /= 10\n",
        "print(acc)\n",
        "coefs /= 10\n",
        "print(coefs)\n",
        "\n",
        "print(model.score(X_test,y_test))\n",
        "\n",
        "print(confusion_matrix(y_test, model.predict(X_test)))\n",
        "\n",
        "# softmax normalization is making the frequency distribution unusable \n",
        "# and making the concreteness distribution slightly worse\n",
        "# but with neither of them normalized (and log frequency) we're getting ~60% accuracy "
      ],
      "metadata": {
        "colab": {
          "base_uri": "https://localhost:8080/"
        },
        "id": "krWppabosLEZ",
        "outputId": "b8a10c5f-ea85-44e4-a6a9-2f528d3689a2"
      },
      "execution_count": null,
      "outputs": [
        {
          "output_type": "stream",
          "name": "stdout",
          "text": [
            "0.7097087378640776\n",
            "[[2.90636506 0.13967468 0.08172524]]\n",
            "0.7126213592233009\n",
            "[[215  47]\n",
            " [101 152]]\n"
          ]
        }
      ]
    },
    {
      "cell_type": "code",
      "source": [
        "model.coef_"
      ],
      "metadata": {
        "colab": {
          "base_uri": "https://localhost:8080/"
        },
        "id": "e_z1rayZbXZN",
        "outputId": "c427ab34-fd0c-4976-876f-f03ba06e9520"
      },
      "execution_count": null,
      "outputs": [
        {
          "output_type": "execute_result",
          "data": {
            "text/plain": [
              "array([[2.928876  , 0.07877863, 0.12120622]])"
            ]
          },
          "metadata": {},
          "execution_count": 102
        }
      ]
    },
    {
      "cell_type": "code",
      "source": [
        "shuffled_df['ratio_accurate'] = shuffled_df['conc'] == shuffled_df['accurate']\n",
        "print(shuffled_df['ratio_accurate'].value_counts())\n",
        "print(\"accuracy: \", shuffled_df['ratio_accurate'].value_counts()[True] / len(shuffled_df), \"with \", len(shuffled_df) , \"samples\")"
      ],
      "metadata": {
        "colab": {
          "base_uri": "https://localhost:8080/"
        },
        "id": "Exs3TA73WOPp",
        "outputId": "c4a2b300-4c87-4876-cc71-459469513c36"
      },
      "execution_count": null,
      "outputs": [
        {
          "output_type": "stream",
          "name": "stdout",
          "text": [
            "True     639\n",
            "False    217\n",
            "Name: ratio_accurate, dtype: int64\n",
            "accuracy:  0.7464953271028038 with  856 samples\n"
          ]
        }
      ]
    },
    {
      "cell_type": "code",
      "source": [
        ""
      ],
      "metadata": {
        "id": "JrBOA6AUfbzy"
      },
      "execution_count": null,
      "outputs": []
    }
  ]
}
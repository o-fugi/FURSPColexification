{
  "nbformat": 4,
  "nbformat_minor": 0,
  "metadata": {
    "colab": {
      "name": "Predicting Semantic Direction.ipynb",
      "provenance": [],
      "authorship_tag": "ABX9TyOHkZcS3LmC5I++n7XdMA2E",
      "include_colab_link": true
    },
    "kernelspec": {
      "name": "python3",
      "display_name": "Python 3"
    },
    "language_info": {
      "name": "python"
    }
  },
  "cells": [
    {
      "cell_type": "markdown",
      "metadata": {
        "id": "view-in-github",
        "colab_type": "text"
      },
      "source": [
        "<a href=\"https://colab.research.google.com/github/o-fugi/FURSPColexification/blob/main/code/Predicting_Semantic_Direction.ipynb\" target=\"_parent\"><img src=\"https://colab.research.google.com/assets/colab-badge.svg\" alt=\"Open In Colab\"/></a>"
      ]
    },
    {
      "cell_type": "code",
      "source": [
        "from google.colab import drive\n",
        "drive.mount('/content/drive/')\n",
        "%cd /content/drive/MyDrive/ColabFiles/"
      ],
      "metadata": {
        "colab": {
          "base_uri": "https://localhost:8080/"
        },
        "id": "jwtytK6h2xdv",
        "outputId": "104eb881-1fc2-4522-ce2e-a6f5ed83dba9"
      },
      "execution_count": 1,
      "outputs": [
        {
          "output_type": "stream",
          "name": "stdout",
          "text": [
            "Mounted at /content/drive/\n",
            "/content/drive/MyDrive/ColabFiles\n"
          ]
        }
      ]
    },
    {
      "cell_type": "code",
      "execution_count": 2,
      "metadata": {
        "id": "Q7rn6PCy2otq"
      },
      "outputs": [],
      "source": [
        "import pandas as pd\n",
        "import re\n",
        "import numpy as np\n",
        "from sklearn.linear_model import LinearRegression\n",
        "from sklearn.model_selection import train_test_split\n",
        "import matplotlib.pyplot as plt\n",
        "from functools import reduce"
      ]
    },
    {
      "cell_type": "code",
      "source": [
        "# import factor  datasets\n",
        "\n",
        "# https://saifmohammad.com/WebPages/nrc-vad.html\n",
        "val_df = pd.read_csv('/content/drive/MyDrive/ColabFiles/NRC-VAD-Lexicon.txt', sep=\"\\t\", header=None)\n",
        "val_df = val_df.rename(columns={0:'Word', 1:'val', 2:'aro', 3:'dom'})[['Word', 'val', 'aro', 'dom']]\n",
        "\n",
        "conc_df = pd.read_csv('/content/drive/MyDrive/ColabFiles/brysbaert_concreteness.csv')\n",
        "conc_df = conc_df.rename(columns={'Conc.M': 'conc'})[['Word', 'conc']]\n",
        "\n",
        "freq_df = pd.read_csv('/content/drive/MyDrive/ColabFiles/COCA_freqs.csv', encoding='ISO-8859-1') # w1, coca_spok\n",
        "freq_df = freq_df.rename(columns={'w1':'Word', 'coca_spok':'freq'})[['Word', 'freq']]"
      ],
      "metadata": {
        "id": "jhh6QgLl2yte"
      },
      "execution_count": 115,
      "outputs": []
    },
    {
      "cell_type": "code",
      "source": [
        "# import semantic shift dataset\n",
        "\n",
        "sem_shift_df = pd.read_csv('/content/drive/MyDrive/ColabFiles/Project 10 Datasets/cleaned_dat_sem_shift.csv')\n",
        "sem_shift_df['meaning1'] = sem_shift_df['meaning1_clean']\n",
        "sem_shift_df['meaning2'] = sem_shift_df['meaning2_clean']\n",
        "\n",
        "sem_shift_df.at[697, 'meaning1'] = 'furuncul'\n",
        "sem_shift_df.at[1521, 'meaning2'] = 'geometrid'"
      ],
      "metadata": {
        "id": "e8iBqeZq3XNv"
      },
      "execution_count": 116,
      "outputs": []
    },
    {
      "cell_type": "code",
      "source": [
        "# define how we map a sense to concreteness, valence, frequency values\n",
        "\n",
        "skip_words = {'the', 'an', 'a', 'of','in', 'it', 'to', 'for', 'on', 'in'} # don't factor these into concreteness\n",
        "\n",
        "# take all words in the sense and and average/add values\n",
        "# if conservative, only matches to full phrases separated by \"or\"\n",
        "def senseToValue(s, df, col, average=True, conservative=False):\n",
        "  s = s.lower()\n",
        "  if conservative: \n",
        "    phrases = re.split(' or ', s)\n",
        "  else:\n",
        "    for i in \"(),/\":\n",
        "      s = s.replace(i, \"\")\n",
        "    phrases = re.split(' ', s)\n",
        "  total_val = 0\n",
        "  val_data = 0\n",
        "  for p in phrases:\n",
        "    if p in skip_words:\n",
        "      continue\n",
        "    try:\n",
        "      val = df[df['Word']==p][col].values[0]\n",
        "      if not np.isnan(val):\n",
        "        total_val += val\n",
        "        val_data += 1\n",
        "    except:\n",
        "      pass\n",
        "  if val_data == 0:\n",
        "    total_val = np.nan\n",
        "  else:\n",
        "    if average:\n",
        "      total_val /= val_data\n",
        "  return total_val"
      ],
      "metadata": {
        "id": "n83l-7jX4qiW"
      },
      "execution_count": 121,
      "outputs": []
    },
    {
      "cell_type": "code",
      "source": [
        "# get priors for semshift data\n",
        "\n",
        "# dictionary for concreteness and embeddings\n",
        "conc_dic = {} # This will be a dictionary that easily allows us to access the concreteness for all of our senses, saving time. \n",
        "freq_dic = {} \n",
        "val_dic = {} \n",
        "\n",
        "conservative=True\n",
        "\n",
        "for i in range(len(sem_shift_df)): # Here we loop through each row of our dataframe, and if we can convert a sense s to an embedding then we set vec_dic[s] = embedding\n",
        "  row = sem_shift_df.iloc[i]\n",
        "  x = row[\"meaning1\"]\n",
        "  y = row[\"meaning2\"]\n",
        "\n",
        "  if x not in conc_dic:\n",
        "    x_conc = senseToValue(x, conc_df, 'conc', conservative=conservative)\n",
        "    if not np.isnan(x_conc):\n",
        "      conc_dic[x] = x_conc\n",
        "\n",
        "  if y not in conc_dic:\n",
        "    y_conc = senseToValue(y, conc_df, 'conc', conservative=conservative)\n",
        "    if not np.isnan(y_conc):\n",
        "      conc_dic[y] = y_conc\n",
        "\n",
        "  if x not in freq_dic:\n",
        "    x_freq = senseToValue(x, freq_df, 'freq', average=False, conservative=conservative)\n",
        "    if not np.isnan(x_freq):\n",
        "      freq_dic[x] = x_freq\n",
        "\n",
        "  if y not in freq_dic:\n",
        "    y_freq = senseToValue(y, freq_df, 'freq', average=False, conservative=conservative)\n",
        "    if not np.isnan(y_freq):\n",
        "      freq_dic[y] = y_freq\n",
        "\n",
        "  if x not in val_dic:\n",
        "    x_val = senseToValue(x, val_df, 'val', conservative=conservative)\n",
        "    if not np.isnan(x_val):\n",
        "      val_dic[x] = x_val\n",
        "\n",
        "  if y not in val_dic:\n",
        "    y_val = senseToValue(y, val_df, 'val', conservative=conservative)\n",
        "    if not np.isnan(y_val):\n",
        "      val_dic[y] = y_val"
      ],
      "metadata": {
        "id": "a3H1tDpjs-9a"
      },
      "execution_count": 130,
      "outputs": []
    },
    {
      "cell_type": "code",
      "source": [
        "# test prior accuracy\n",
        "\n",
        "# merge concreteness with shift df\n",
        "conc_sense_df = pd.DataFrame.from_dict(conc_dic, orient='index').reset_index().rename(columns={'index':'Word', 0:'conc'})\n",
        "shift_conc_df = reduce(lambda  left,right: pd.merge(left,right,left_on='meaning1',right_on='Word', how='left'), [sem_shift_df, conc_sense_df])\n",
        "shift_conc_df = reduce(lambda  left,right: pd.merge(left,right,left_on='meaning2',right_on='Word', how='left'), [shift_conc_df, conc_sense_df])\n",
        "\n",
        "# calculate ratio and find accuracy\n",
        "shift_conc_df['ratio'] = shift_conc_df['conc_x'] / shift_conc_df['conc_y']\n",
        "shift_conc_df = shift_conc_df[~np.isnan(shift_conc_df['ratio'])]\n",
        "shift_conc_df['ratio_accurate'] = shift_conc_df['ratio'] > 1\n",
        "print(shift_conc_df['ratio_accurate'].value_counts())\n",
        "print(\"accuracy: \", shift_conc_df['ratio_accurate'].value_counts()[True] / len(shift_conc_df), \"with \", len(shift_conc_df) , \"samples\")"
      ],
      "metadata": {
        "colab": {
          "base_uri": "https://localhost:8080/"
        },
        "id": "28cXztstb3rU",
        "outputId": "d7f5db4b-d667-4190-d908-f741b8c40c50"
      },
      "execution_count": 131,
      "outputs": [
        {
          "output_type": "stream",
          "name": "stdout",
          "text": [
            "True     770\n",
            "False    278\n",
            "Name: ratio_accurate, dtype: int64\n",
            "accuracy:  0.7347328244274809 with  1048 samples\n"
          ]
        }
      ]
    },
    {
      "cell_type": "code",
      "source": [
        "# test prior accuracy\n",
        "\n",
        "# merge freqreteness with shift df\n",
        "freq_sense_df = pd.DataFrame.from_dict(freq_dic, orient='index').reset_index().rename(columns={'index':'Word', 0:'freq'})\n",
        "shift_freq_df = reduce(lambda  left,right: pd.merge(left,right,left_on='meaning1',right_on='Word', how='left'), [sem_shift_df, freq_sense_df])\n",
        "shift_freq_df = reduce(lambda  left,right: pd.merge(left,right,left_on='meaning2',right_on='Word', how='left'), [shift_freq_df, freq_sense_df])\n",
        "\n",
        "# calculate ratio and find accuracy\n",
        "shift_freq_df['ratio'] = shift_freq_df['freq_x'] / shift_freq_df['freq_y']\n",
        "shift_freq_df = shift_freq_df[~np.isnan(shift_freq_df['ratio'])]\n",
        "shift_freq_df['ratio_accurate'] = shift_freq_df['ratio'] > 1\n",
        "print(shift_freq_df['ratio_accurate'].value_counts())\n",
        "print(\"accuracy: \", shift_freq_df['ratio_accurate'].value_counts()[True] / len(shift_freq_df), \"with \", len(shift_freq_df) , \"samples\")"
      ],
      "metadata": {
        "colab": {
          "base_uri": "https://localhost:8080/"
        },
        "id": "e5gHJMeWubx6",
        "outputId": "bf1ae8cd-283b-4feb-fdb4-5bb8c0e3890a"
      },
      "execution_count": 132,
      "outputs": [
        {
          "output_type": "stream",
          "name": "stdout",
          "text": [
            "True     555\n",
            "False    458\n",
            "Name: ratio_accurate, dtype: int64\n",
            "accuracy:  0.5478775913129319 with  1013 samples\n"
          ]
        }
      ]
    },
    {
      "cell_type": "code",
      "source": [
        "# test prior accuracy\n",
        "\n",
        "# merge valreteness with shift df\n",
        "val_sense_df = pd.DataFrame.from_dict(val_dic, orient='index').reset_index().rename(columns={'index':'Word', 0:'val'})\n",
        "shift_val_df = reduce(lambda  left,right: pd.merge(left,right,left_on='meaning1',right_on='Word', how='left'), [sem_shift_df, val_sense_df])\n",
        "shift_val_df = reduce(lambda  left,right: pd.merge(left,right,left_on='meaning2',right_on='Word', how='left'), [shift_val_df, val_sense_df])\n",
        "\n",
        "# calculate ratio and find accuracy\n",
        "shift_val_df['ratio'] = shift_val_df['val_x'] / shift_val_df['val_y']\n",
        "shift_val_df = shift_val_df[~np.isnan(shift_val_df['ratio'])]\n",
        "shift_val_df['ratio_accurate'] = shift_val_df['ratio'] > 1\n",
        "print(shift_val_df['ratio_accurate'].value_counts())\n",
        "print(\"accuracy: \", shift_val_df['ratio_accurate'].value_counts()[True] / len(shift_val_df), \"with \", len(shift_val_df) , \"samples\")"
      ],
      "metadata": {
        "colab": {
          "base_uri": "https://localhost:8080/"
        },
        "id": "IMJAafOG5chU",
        "outputId": "8b7226ee-6f3d-444e-f245-4960e6bc6671"
      },
      "execution_count": 133,
      "outputs": [
        {
          "output_type": "stream",
          "name": "stdout",
          "text": [
            "True     492\n",
            "False    397\n",
            "Name: ratio_accurate, dtype: int64\n",
            "accuracy:  0.5534308211473565 with  889 samples\n"
          ]
        }
      ]
    },
    {
      "cell_type": "markdown",
      "source": [
        "## accuracy for concreteness, frequency, and valence\n",
        "\n",
        "#### on cleaned data\n",
        "NOT conservative:\n",
        "* 68.5 with 2849 samples\n",
        "* 51.6 with 2874 samples\n",
        "* 50.6 with 2631 samples\n",
        "\n",
        "conservative:\n",
        "* 73.5 with 1048 samples\n",
        "* 54.8 with 1013 samples\n",
        "* 55.3 with 889 samples"
      ],
      "metadata": {
        "id": "a02WRO0p-3tI"
      }
    }
  ]
}
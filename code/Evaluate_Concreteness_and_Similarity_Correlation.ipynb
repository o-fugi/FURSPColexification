{
  "cells": [
    {
      "cell_type": "markdown",
      "metadata": {
        "id": "view-in-github",
        "colab_type": "text"
      },
      "source": [
        "<a href=\"https://colab.research.google.com/github/o-fugi/FURSPColexification/blob/main/code/Evaluate_Concreteness_and_Similarity_Correlation.ipynb\" target=\"_parent\"><img src=\"https://colab.research.google.com/assets/colab-badge.svg\" alt=\"Open In Colab\"/></a>"
      ]
    },
    {
      "cell_type": "code",
      "source": [
        "import pandas as pd\n",
        "import re\n",
        "import numpy as np\n",
        "from sklearn.linear_model import LinearRegression\n",
        "import matplotlib.pyplot as plt\n",
        "from functools import reduce"
      ],
      "metadata": {
        "id": "LrIVvHVs6vAa"
      },
      "execution_count": 12,
      "outputs": []
    },
    {
      "cell_type": "code",
      "source": [
        "from google.colab import drive\n",
        "drive.mount('/content/drive/')\n",
        "%cd /content/drive/MyDrive/ColabFiles/"
      ],
      "metadata": {
        "colab": {
          "base_uri": "https://localhost:8080/"
        },
        "id": "bKKlk1e-66ID",
        "outputId": "9afd5658-36e4-4626-d890-0e66adeb6bff"
      },
      "execution_count": 2,
      "outputs": [
        {
          "output_type": "stream",
          "name": "stdout",
          "text": [
            "Mounted at /content/drive/\n",
            "/content/drive/MyDrive/ColabFiles\n"
          ]
        }
      ]
    },
    {
      "cell_type": "code",
      "source": [
        "# import clics and frequency/concreteness data\n",
        "\n",
        "clics_df = pd.read_csv('/content/drive/MyDrive/ColabFiles/clics-colexification-data.csv')\n",
        "source_vars_df = pd.read_csv('/content/drive/MyDrive/ColabFiles/source_vars_df.csv') \n",
        "sem_shift_df = pd.read_csv('/content/drive/MyDrive/ColabFiles/filtered_dat_sem_shift.csv')"
      ],
      "metadata": {
        "id": "FbgUef0w6mRt"
      },
      "execution_count": 55,
      "outputs": []
    },
    {
      "cell_type": "code",
      "source": [
        "# install sentence-trasnformers\n",
        "%%capture\n",
        "! pip install -U sentence-transformers\n",
        "from sentence_transformers import SentenceTransformer\n",
        "model = SentenceTransformer('whaleloops/phrase-bert')"
      ],
      "metadata": {
        "id": "Ve-CVSeTEkWh"
      },
      "execution_count": 4,
      "outputs": []
    },
    {
      "cell_type": "code",
      "source": [
        "# define how we map a sense to concreteness\n",
        "\n",
        "skip_words = {'the', 'an', 'a', 'of','in', 'it', 'to', 'for', 'on', 'in'} # don't factor these into concreteness\n",
        "\n",
        "# take all words in the sense and and average concreteness\n",
        "def senseToConc(s):\n",
        "  s = s.lower()\n",
        "  for i in \"(),/\":\n",
        "    s = s.replace(i, \"\")\n",
        "  phrases = re.split(' ', s)\n",
        "  total_conc = 0\n",
        "  conc_data = 0\n",
        "  for p in phrases:\n",
        "    if p in skip_words:\n",
        "      continue\n",
        "    try:\n",
        "      conc = source_vars_df[source_vars_df['Word']==p]['Conc'].values[0]\n",
        "      if not np.isnan(conc):\n",
        "        total_conc += conc\n",
        "        conc_data += 1\n",
        "    except:\n",
        "      pass\n",
        "  if conc_data == 0:\n",
        "    total_conc = np.nan\n",
        "  else:\n",
        "    total_conc /= conc_data\n",
        "  return total_conc"
      ],
      "metadata": {
        "id": "f2BHdy9VTEjr"
      },
      "execution_count": 5,
      "outputs": []
    },
    {
      "cell_type": "code",
      "source": [
        "# pickle load dictionary for conreteness and embeddings to save like 7 minutes of loading \n",
        "import pickle\n",
        "\n",
        "conc_dic = pickle.load(open('conc_dic.p', 'rb'))\n",
        "vec_dic = pickle.load(open('vec_dic.p', 'rb'))"
      ],
      "metadata": {
        "id": "5dLOiEPEabkV"
      },
      "execution_count": 45,
      "outputs": []
    },
    {
      "cell_type": "code",
      "source": [
        "# dictionary for concreteness and embeddings\n",
        "conc_dic = {} # This will be a dictionary that easily allows us to access the concreteness for all of our senses, saving time. \n",
        "vec_dic = {} # This will be a dictionary that easily allows us to access the embedding for all of our senses, saving time. \n",
        "error_senses = set()  # This represents the set of senses for which there was a problem converting them to embeddings. \n",
        "\n",
        "for i in range(len(clics_df)): # Here we loop through each row of our dataframe, and if we can convert a sense s to an embedding then we set vec_dic[s] = embedding\n",
        "  row = clics_df.iloc[i]\n",
        "  x = row[\"Concepticon_Gloss.xo\"]\n",
        "  y = row[\"Concepticon_Gloss.yo\"]\n",
        "\n",
        "  try:   \n",
        "    if x not in vec_dic:\n",
        "      xvec = np.array(model.encode(x))\n",
        "      vec_dic[x] = xvec\n",
        "  except:\n",
        "    error_senses.add(x)\n",
        "\n",
        "  try:  \n",
        "    if y not in vec_dic:\n",
        "      yvec = np.array(model.encode(y))\n",
        "      vec_dic[y] = yvec\n",
        "  except: \n",
        "    error_senses.add(y)\n",
        "\n",
        "  if x not in conc_dic:\n",
        "    x_conc = senseToConc(x)\n",
        "    if not np.isnan(x_conc):\n",
        "      conc_dic[x] = x_conc\n",
        "    else:\n",
        "      error_senses.add(x)\n",
        "\n",
        "  if y not in conc_dic:\n",
        "    y_conc = senseToConc(y)\n",
        "    if not np.isnan(y_conc):\n",
        "      conc_dic[y] = y_conc\n",
        "    else:\n",
        "      error_senses.add(y)\n",
        "\n",
        "error_senses = list(error_senses) # List of all senses that could not be converted to embeddings. Should be empty right now with phrase BERT\n",
        "senses = list(vec_dic.keys()) # List of all concepts\n",
        "\n",
        "sense_indices = {senses[i]:i for i in range(len(senses))} # sense_indices is a dictionary where its keys are senses and its values are the indices for which the senses appear in our list of senses."
      ],
      "metadata": {
        "id": "1pbXx3ZkRw1e"
      },
      "execution_count": 7,
      "outputs": []
    },
    {
      "cell_type": "code",
      "source": [
        "# get p(s_i)\n",
        "\n",
        "conc_df = pd.DataFrame.from_dict(conc_dic, orient='index').reset_index().rename(columns={'index':'Word', 0:'conc'})\n",
        "all_vars_df = reduce(lambda  left,right: pd.merge(left,right,left_on='Concepticon_Gloss.xo',right_on='Word', how='left'), [clics_df, conc_df])\n",
        "all_vars_df = reduce(lambda  left,right: pd.merge(left,right,left_on='Concepticon_Gloss.yo',right_on='Word', how='left'), [all_vars_df, conc_df])\n",
        "all_vars_df['prior'] = all_vars_df[['conc_x', 'conc_y']].max(axis=1)"
      ],
      "metadata": {
        "id": "hPZRnWbsUcij"
      },
      "execution_count": 23,
      "outputs": []
    },
    {
      "cell_type": "code",
      "source": [
        "# get f(s_i, s_j)\n",
        "\n",
        "def getEmbedding(s):\n",
        "  return vec_dic[s]\n",
        "\n",
        "def getSim(vec):\n",
        "  x = vec[0]\n",
        "  y = vec[1]\n",
        "  return np.dot(x,y)/(np.linalg.norm(x)*np.linalg.norm(y))\n",
        "\n",
        "all_vars_df['v1'] = all_vars_df['Concepticon_Gloss.xo'].apply(getEmbedding)\n",
        "all_vars_df['v2'] = all_vars_df['Concepticon_Gloss.yo'].apply(getEmbedding)\n",
        "all_vars_df['sim'] = all_vars_df[['v1', 'v2']].apply(getSim, axis=1)"
      ],
      "metadata": {
        "id": "mBVwNL_iD9YH"
      },
      "execution_count": 24,
      "outputs": []
    },
    {
      "cell_type": "code",
      "source": [
        "print('Spearman correlation for colex and similarity:', all_vars_df.corr()['sim']['colex.freq']) # verified by Cognition paper\n",
        "print('Spearman correlation for colex and prior:', all_vars_df.corr()['prior']['colex.freq']) # negative ... not great"
      ],
      "metadata": {
        "colab": {
          "base_uri": "https://localhost:8080/"
        },
        "id": "4lWiEtkHZM5Z",
        "outputId": "5655d90e-a812-42ae-a3dd-bb4a36c906c7"
      },
      "execution_count": 43,
      "outputs": [
        {
          "output_type": "stream",
          "name": "stdout",
          "text": [
            "Spearman correlation for colex and similarity: 0.21034262853971106\n",
            "Spearman correlation for colex and prior: -0.018099557286153457\n"
          ]
        }
      ]
    },
    {
      "cell_type": "code",
      "source": [
        "# linear regression to get coefficients\n",
        "\n",
        "filtered_vars_df = all_vars_df[~np.isnan(all_vars_df['sim']) & ~np.isnan(all_vars_df['prior'])]\n",
        "\n",
        "filtered_vars_df['log_prior'] = np.log(filtered_vars_df['prior'])\n",
        "filtered_vars_df['log_sim'] = np.log(filtered_vars_df['sim'])\n",
        "\n",
        "X = filtered_vars_df[['prior', 'sim']].values.reshape(-1, 2)  \n",
        "Y = filtered_vars_df[['colex.freq']].values.reshape(-1, 1)\n",
        "lin_reg = LinearRegression().fit(X, Y)\n",
        "filtered_vars_df['lin_reg_predict'] = lin_reg.predict(X)\n",
        "print(lin_reg.score(X, Y))"
      ],
      "metadata": {
        "colab": {
          "base_uri": "https://localhost:8080/"
        },
        "id": "_Wd1H-pkHPCu",
        "outputId": "706aa337-c6ae-4030-de49-58a0c6080dbc"
      },
      "execution_count": 37,
      "outputs": [
        {
          "output_type": "stream",
          "name": "stdout",
          "text": [
            "0.04443630741887361\n"
          ]
        },
        {
          "output_type": "stream",
          "name": "stderr",
          "text": [
            "/usr/local/lib/python3.7/dist-packages/ipykernel_launcher.py:5: SettingWithCopyWarning: \n",
            "A value is trying to be set on a copy of a slice from a DataFrame.\n",
            "Try using .loc[row_indexer,col_indexer] = value instead\n",
            "\n",
            "See the caveats in the documentation: https://pandas.pydata.org/pandas-docs/stable/user_guide/indexing.html#returning-a-view-versus-a-copy\n",
            "  \"\"\"\n",
            "/usr/local/lib/python3.7/dist-packages/ipykernel_launcher.py:6: SettingWithCopyWarning: \n",
            "A value is trying to be set on a copy of a slice from a DataFrame.\n",
            "Try using .loc[row_indexer,col_indexer] = value instead\n",
            "\n",
            "See the caveats in the documentation: https://pandas.pydata.org/pandas-docs/stable/user_guide/indexing.html#returning-a-view-versus-a-copy\n",
            "  \n",
            "/usr/local/lib/python3.7/dist-packages/ipykernel_launcher.py:11: SettingWithCopyWarning: \n",
            "A value is trying to be set on a copy of a slice from a DataFrame.\n",
            "Try using .loc[row_indexer,col_indexer] = value instead\n",
            "\n",
            "See the caveats in the documentation: https://pandas.pydata.org/pandas-docs/stable/user_guide/indexing.html#returning-a-view-versus-a-copy\n",
            "  # This is added back by InteractiveShellApp.init_path()\n"
          ]
        }
      ]
    },
    {
      "cell_type": "code",
      "source": [
        "#@title plot showing that p(s_i) should kinda be correlated with concreteness\n",
        "\n",
        "plt.scatter(X[:,0], Y)\n",
        "plt.plot(X[:,0], lin_reg.predict(X), c='cyan')\n",
        "plt.show()"
      ],
      "metadata": {
        "colab": {
          "base_uri": "https://localhost:8080/",
          "height": 265
        },
        "cellView": "form",
        "id": "zSaAV5ZuOMeI",
        "outputId": "59d74115-dac4-40a0-a0a0-31112392264d"
      },
      "execution_count": 46,
      "outputs": [
        {
          "output_type": "display_data",
          "data": {
            "text/plain": [
              "<Figure size 432x288 with 1 Axes>"
            ],
            "image/png": "[encoded data removed]"
          },
          "metadata": {
            "needs_background": "light"
          }
        }
      ]
    },
    {
      "cell_type": "markdown",
      "source": [
        "# Test prior accuracy (currently 66%)"
      ],
      "metadata": {
        "id": "oZceiBilv5tW"
      }
    },
    {
      "cell_type": "code",
      "source": [
        "# filter semshift by realizations > 1 \n",
        "sem_shift_df = sem_shift_df[sem_shift_df['realizations'] > 1]"
      ],
      "metadata": {
        "id": "QmFT0h7xudWn"
      },
      "execution_count": 60,
      "outputs": []
    },
    {
      "cell_type": "code",
      "source": [
        "# get priors for semshift data\n",
        "\n",
        "# dictionary for concreteness and embeddings\n",
        "conc_dic = {} # This will be a dictionary that easily allows us to access the concreteness for all of our senses, saving time. \n",
        "error_senses = set()  # This represents the set of senses for which there was a problem converting them to embeddings. \n",
        "\n",
        "for i in range(len(sem_shift_df)): # Here we loop through each row of our dataframe, and if we can convert a sense s to an embedding then we set vec_dic[s] = embedding\n",
        "  row = sem_shift_df.iloc[i]\n",
        "  x = row[\"meaning1\"]\n",
        "  y = row[\"meaning2\"]\n",
        "\n",
        "  if x not in conc_dic:\n",
        "    x_conc = senseToConc(x)\n",
        "    if not np.isnan(x_conc):\n",
        "      conc_dic[x] = x_conc\n",
        "    else:\n",
        "      error_senses.add(x)\n",
        "\n",
        "  if y not in conc_dic:\n",
        "    y_conc = senseToConc(y)\n",
        "    if not np.isnan(y_conc):\n",
        "      conc_dic[y] = y_conc\n",
        "    else:\n",
        "      error_senses.add(y)\n",
        "\n",
        "error_senses = list(error_senses) # List of all senses that could not be converted to embeddings. Should be empty right now with phrase BERT\n",
        "senses = list(vec_dic.keys()) # List of all concepts\n",
        "\n",
        "sense_indices = {senses[i]:i for i in range(len(senses))} # sense_indices is a dictionary where its keys are senses and its values are the indices for which the senses appear in our list of senses."
      ],
      "metadata": {
        "id": "a3H1tDpjs-9a"
      },
      "execution_count": 61,
      "outputs": []
    },
    {
      "cell_type": "code",
      "source": [
        "# test prior accuracy\n",
        "\n",
        "# merge concreteness with shift df\n",
        "conc_df = pd.DataFrame.from_dict(conc_dic, orient='index').reset_index().rename(columns={'index':'Word', 0:'conc'})\n",
        "all_vars_df = reduce(lambda  left,right: pd.merge(left,right,left_on='meaning1',right_on='Word', how='left'), [sem_shift_df, conc_df])\n",
        "all_vars_df = reduce(lambda  left,right: pd.merge(left,right,left_on='meaning2',right_on='Word', how='left'), [all_vars_df, conc_df])\n",
        "\n",
        "# calculate ratio and find accuracy\n",
        "all_vars_df['ratio'] = all_vars_df['conc_x'] / all_vars_df['conc_y']\n",
        "all_vars_df['ratio_accurate'] = all_vars_df['ratio'] > 1\n",
        "print(all_vars_df['ratio_accurate'].value_counts())\n",
        "print(\"accuracy: \", all_vars_df['ratio_accurate'].value_counts()[True] / len(all_vars_df))"
      ],
      "metadata": {
        "colab": {
          "base_uri": "https://localhost:8080/"
        },
        "id": "28cXztstb3rU",
        "outputId": "fc05741e-69d5-40d7-ae5a-608d9280f3fd"
      },
      "execution_count": 62,
      "outputs": [
        {
          "output_type": "stream",
          "name": "stdout",
          "text": [
            "True     988\n",
            "False    502\n",
            "Name: ratio_accurate, dtype: int64\n",
            "accuracy:  0.6630872483221476\n"
          ]
        }
      ]
    }
  ],
  "metadata": {
    "colab": {
      "collapsed_sections": [],
      "name": "Evaluate Concreteness and Similarity Correlation",
      "provenance": [],
      "include_colab_link": true
    },
    "kernelspec": {
      "display_name": "Python 3",
      "name": "python3"
    },
    "language_info": {
      "name": "python"
    }
  },
  "nbformat": 4,
  "nbformat_minor": 0
}
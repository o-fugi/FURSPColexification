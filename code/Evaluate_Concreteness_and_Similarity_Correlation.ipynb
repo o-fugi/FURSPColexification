{
  "cells": [
    {
      "cell_type": "markdown",
      "metadata": {
        "id": "view-in-github",
        "colab_type": "text"
      },
      "source": [
        "<a href=\"https://colab.research.google.com/github/o-fugi/FURSPColexification/blob/main/code/Evaluate_Concreteness_and_Similarity_Correlation.ipynb\" target=\"_parent\"><img src=\"https://colab.research.google.com/assets/colab-badge.svg\" alt=\"Open In Colab\"/></a>"
      ]
    },
    {
      "cell_type": "code",
      "source": [
        "import pandas as pd\n",
        "import re\n",
        "import numpy as np\n",
        "from sklearn.linear_model import LinearRegression\n",
        "from sklearn.model_selection import train_test_split\n",
        "import matplotlib.pyplot as plt\n",
        "from functools import reduce"
      ],
      "metadata": {
        "id": "LrIVvHVs6vAa"
      },
      "execution_count": 1,
      "outputs": []
    },
    {
      "cell_type": "code",
      "source": [
        "from google.colab import drive\n",
        "drive.mount('/content/drive/')\n",
        "%cd /content/drive/MyDrive/ColabFiles/"
      ],
      "metadata": {
        "colab": {
          "base_uri": "https://localhost:8080/"
        },
        "id": "bKKlk1e-66ID",
        "outputId": "8c8b3bd6-2712-441e-c3b7-4321ae31a310"
      },
      "execution_count": 2,
      "outputs": [
        {
          "output_type": "stream",
          "name": "stdout",
          "text": [
            "Mounted at /content/drive/\n",
            "/content/drive/MyDrive/ColabFiles\n"
          ]
        }
      ]
    },
    {
      "cell_type": "code",
      "source": [
        "# import clics and frequency/concreteness data\n",
        "\n",
        "clics_df = pd.read_csv('/content/drive/MyDrive/ColabFiles/clics-colexification-data.csv')\n",
        "source_vars_df = pd.read_csv('/content/drive/MyDrive/ColabFiles/source_vars_df.csv') # frequency/concreteness data\n",
        "\n",
        "# semantic shift data -- filtered as described in raymond's paper, and grouped by the (source, target) pair\n",
        "# for derivation, see https://github.com/o-fugi/FURSPColexification/blob/de3b05e4f1ddec5c49ff8fe6794b870a4e0b60fc/code/Predict_Source_Probability_with_Frequency_and_Concreteness.ipynb?short_path=4ec278e#L178-L190\n",
        "sem_shift_df = pd.read_csv('/content/drive/MyDrive/ColabFiles/filtered_dat_sem_shift.csv')"
      ],
      "metadata": {
        "id": "FbgUef0w6mRt"
      },
      "execution_count": 49,
      "outputs": []
    },
    {
      "cell_type": "code",
      "source": [
        "# install sentence-trasnformers\n",
        "%%capture\n",
        "! pip install -U sentence-transformers\n",
        "from sentence_transformers import SentenceTransformer\n",
        "model = SentenceTransformer('whaleloops/phrase-bert')"
      ],
      "metadata": {
        "id": "Ve-CVSeTEkWh"
      },
      "execution_count": 4,
      "outputs": []
    },
    {
      "cell_type": "code",
      "source": [
        "# define how we map a sense to concreteness\n",
        "\n",
        "skip_words = {'the', 'an', 'a', 'of','in', 'it', 'to', 'for', 'on', 'in'} # don't factor these into concreteness\n",
        "\n",
        "# take all words in the sense and and average concreteness (matches most entries in CLICS/DatSemShift, so less conservative)\n",
        "def senseToConc(s):\n",
        "  s = s.lower()\n",
        "  for i in \"(),/\":\n",
        "    s = s.replace(i, \"\")\n",
        "  phrases = re.split(' ', s)\n",
        "  total_conc = 0\n",
        "  conc_data = 0\n",
        "  for p in phrases:\n",
        "    if p in skip_words:\n",
        "      continue\n",
        "    try:\n",
        "      conc = source_vars_df[source_vars_df['Word']==p]['Conc'].values[0]\n",
        "      if not np.isnan(conc):\n",
        "        total_conc += conc\n",
        "        conc_data += 1\n",
        "    except:\n",
        "      pass\n",
        "  if conc_data == 0:\n",
        "    total_conc = np.nan\n",
        "  else:\n",
        "    total_conc /= conc_data\n",
        "  return total_conc\n",
        "\n",
        "# only average concreteness of phrases separated by commas or slashes (matches fewer entries in CLICS/DatSemShift, so more conservative)\n",
        "def senseToConc_Conservative(s):\n",
        "  s = s.lower()\n",
        "  phrases = re.split('/|,', s)\n",
        "  total_conc = 0\n",
        "  conc_data = 0\n",
        "  for p in phrases:\n",
        "    p = p.strip()\n",
        "    if (len(p.split(' ')) > 1) & (p.split(' ')[0] == 'to'):\n",
        "      p = re.sub(\"^to \", \"\", p)\n",
        "    try:\n",
        "      conc = source_vars_df[source_vars_df['Word']==p]['Conc'].values[0]\n",
        "      if not np.isnan(conc):\n",
        "        total_conc += conc\n",
        "        conc_data += 1\n",
        "    except:\n",
        "      pass\n",
        "  if conc_data == 0:\n",
        "    total_conc = np.nan\n",
        "  else:\n",
        "    total_conc /= conc_data\n",
        "  return total_conc"
      ],
      "metadata": {
        "id": "f2BHdy9VTEjr"
      },
      "execution_count": 5,
      "outputs": []
    },
    {
      "cell_type": "code",
      "source": [
        "#@title\n",
        "# pickle load dictionary for conreteness and embeddings to save like 7 minutes of loading \n",
        "# import pickle\n",
        "\n",
        "# conc_dic = pickle.load(open('conc_dic.p', 'rb'))\n",
        "# vec_dic = pickle.load(open('vec_dic.p', 'rb'))"
      ],
      "metadata": {
        "cellView": "form",
        "id": "5dLOiEPEabkV"
      },
      "execution_count": null,
      "outputs": []
    },
    {
      "cell_type": "code",
      "source": [
        "# dictionary for concreteness and embeddings\n",
        "conc_dic = {} # This will be a dictionary that easily allows us to access the concreteness for all of our senses, saving time. \n",
        "vec_dic = {} # This will be a dictionary that easily allows us to access the embedding for all of our senses, saving time. \n",
        "error_senses = set()  # This represents the set of senses for which there was a problem converting them to embeddings or concreteness values\n",
        "\n",
        "for i in range(len(clics_df)): # Here we loop through each row of our dataframe, and if we can convert a sense s to an embedding then we set vec_dic[s] = embedding\n",
        "  row = clics_df.iloc[i]\n",
        "  x = row[\"Concepticon_Gloss.xo\"]\n",
        "  y = row[\"Concepticon_Gloss.yo\"]\n",
        "\n",
        "  try:   \n",
        "    if x not in vec_dic:\n",
        "      xvec = np.array(model.encode(x))\n",
        "      vec_dic[x] = xvec\n",
        "  except:\n",
        "    error_senses.add(x)\n",
        "\n",
        "  try:  \n",
        "    if y not in vec_dic:\n",
        "      yvec = np.array(model.encode(y))\n",
        "      vec_dic[y] = yvec\n",
        "  except: \n",
        "    error_senses.add(y)\n",
        "\n",
        "  if x not in conc_dic:\n",
        "    x_conc = senseToConc_Conservative(x)\n",
        "    if not np.isnan(x_conc):\n",
        "      conc_dic[x] = x_conc\n",
        "    else:\n",
        "      error_senses.add(x)\n",
        "\n",
        "  if y not in conc_dic:\n",
        "    y_conc = senseToConc_Conservative(y)\n",
        "    if not np.isnan(y_conc):\n",
        "      conc_dic[y] = y_conc\n",
        "    else:\n",
        "      error_senses.add(y)\n",
        "\n",
        "error_senses = list(error_senses) # List of all senses that could not be converted to embeddings. Should be empty right now with phrase BERT\n",
        "senses = list(vec_dic.keys()) # List of all concepts\n",
        "\n",
        "sense_indices = {senses[i]:i for i in range(len(senses))} # sense_indices is a dictionary where its keys are senses and its values are the indices for which the senses appear in our list of senses."
      ],
      "metadata": {
        "id": "1pbXx3ZkRw1e"
      },
      "execution_count": 6,
      "outputs": []
    },
    {
      "cell_type": "code",
      "source": [
        "# get p(s_i)\n",
        "\n",
        "conc_df = pd.DataFrame.from_dict(conc_dic, orient='index').reset_index().rename(columns={'index':'Word', 0:'conc'})\n",
        "all_vars_df = reduce(lambda  left,right: pd.merge(left,right,left_on='Concepticon_Gloss.xo',right_on='Word', how='left'), [clics_df, conc_df])\n",
        "all_vars_df = reduce(lambda  left,right: pd.merge(left,right,left_on='Concepticon_Gloss.yo',right_on='Word', how='left'), [all_vars_df, conc_df])\n",
        "all_vars_df['prior'] = all_vars_df[['conc_x', 'conc_y']].max(axis=1)\n",
        "all_vars_df['reverse_prior'] = all_vars_df[['conc_x', 'conc_y']].min(axis=1)"
      ],
      "metadata": {
        "id": "hPZRnWbsUcij"
      },
      "execution_count": 7,
      "outputs": []
    },
    {
      "cell_type": "code",
      "source": [
        "# get f(s_i, s_j)\n",
        "\n",
        "def getEmbedding(s):\n",
        "  return vec_dic[s]\n",
        "\n",
        "def getSim(vec):\n",
        "  x = vec[0]\n",
        "  y = vec[1]\n",
        "  return np.dot(x,y)/(np.linalg.norm(x)*np.linalg.norm(y))\n",
        "\n",
        "all_vars_df['v1'] = all_vars_df['Concepticon_Gloss.xo'].apply(getEmbedding)\n",
        "all_vars_df['v2'] = all_vars_df['Concepticon_Gloss.yo'].apply(getEmbedding)\n",
        "all_vars_df['sim'] = all_vars_df[['v1', 'v2']].apply(getSim, axis=1)"
      ],
      "metadata": {
        "id": "mBVwNL_iD9YH"
      },
      "execution_count": 8,
      "outputs": []
    },
    {
      "cell_type": "code",
      "source": [
        "# print('Spearman correlation for colex and similarity:', all_vars_df.corr()['sim']['colex.freq']) # verified by Cognition paper\n",
        "# print('Spearman correlation for colex and prior:', all_vars_df.corr()['prior']['colex.freq']) # almost zero\n",
        "# print('Spearman correlation for colex and reverse prior:', all_vars_df.corr()['reverse_prior']['colex.freq']) # almost zero"
      ],
      "metadata": {
        "colab": {
          "base_uri": "https://localhost:8080/"
        },
        "id": "4lWiEtkHZM5Z",
        "outputId": "0656d343-ddb9-47b6-ef75-b7c9fac08190"
      },
      "execution_count": 9,
      "outputs": [
        {
          "output_type": "stream",
          "name": "stdout",
          "text": [
            "Spearman correlation for colex and similarity: 0.21034262853971106\n",
            "Spearman correlation for colex and prior: -0.007540992767816256\n",
            "Spearman correlation for colex and reverse prior: 0.030254682385826428\n"
          ]
        }
      ]
    },
    {
      "cell_type": "code",
      "source": [
        "# linear regression to get coefficients\n",
        "\n",
        "filtered_vars_df = all_vars_df[~np.isnan(all_vars_df['sim']) & ~np.isnan(all_vars_df['prior'])].copy()\n",
        "filtered_vars_df = filtered_vars_df[~np.isnan(filtered_vars_df['conc_x']) & ~np.isnan(filtered_vars_df['conc_y'])]\n",
        "\n",
        "# just take more frequently correlated cases\n",
        "# filtered_vars_df = filtered_vars_df[filtered_vars_df['colex.freq'] > 2]\n",
        "\n",
        "filtered_vars_df['log_prior'] = np.log(filtered_vars_df['prior'])\n",
        "filtered_vars_df['log_sim'] = np.log(filtered_vars_df['sim'])\n",
        "filtered_vars_df['log_colex'] = np.log(filtered_vars_df['colex.freq'])\n",
        "filtered_vars_df['log_reverse_prior'] = np.log(filtered_vars_df['reverse_prior'])\n",
        "\n",
        "X = filtered_vars_df[['log_prior', 'log_sim', 'prior', 'sim', 'log_reverse_prior']]#.values.reshape(-1, 5)  \n",
        "Y = filtered_vars_df[['log_colex', 'colex.freq']]#.values.reshape(-1, 2)\n",
        "\n",
        "X_train, X_test, Y_train, Y_test = train_test_split(X, Y, test_size = 0.5)\n",
        "\n",
        "X_train_vars = X_train[['log_prior', 'log_sim']].values.reshape(-1, 2)\n",
        "Y_train_vars = Y_train[['log_colex']].values.reshape(-1, 1)\n",
        "\n",
        "lin_reg = LinearRegression().fit(X_train_vars, Y_train_vars)\n",
        "\n",
        "# test on held-out data\n",
        "results_df = pd.DataFrame()\n",
        "results_df['log_prior'] = X_test['log_prior'] \n",
        "results_df['log_sim'] = X_test['log_sim']\n",
        "results_df['prior'] = X_test['prior']\n",
        "results_df['sim'] = X_test['sim'] \n",
        "results_df['log_colex'] = Y_test['log_colex'] \n",
        "results_df['colex.freq'] = Y_test['colex.freq'] \n",
        "results_df['lin_reg_predict'] = lin_reg.predict(X_test[['log_prior', 'log_sim']].values.reshape(-1, 2))"
      ],
      "metadata": {
        "id": "_Wd1H-pkHPCu"
      },
      "execution_count": 42,
      "outputs": []
    },
    {
      "cell_type": "code",
      "source": [
        "print('Spearman correlation for colex and similarity:', results_df.corr()['sim']['colex.freq']) # \n",
        "print('Spearman correlation for colex and similarity:', results_df.corr()['prior']['colex.freq']) # \n",
        "\n",
        "print('Spearman correlation for log colex and log similarity:', results_df.corr()['log_sim']['log_colex']) # \n",
        "print('Spearman correlation for log colex and log prior:', results_df.corr()['log_prior']['log_colex']) # almost 0\n",
        "\n",
        "print('Spearman correlation for log colex and log similarity + log concreteness:', results_df.corr()['lin_reg_predict']['log_colex']) "
      ],
      "metadata": {
        "colab": {
          "base_uri": "https://localhost:8080/"
        },
        "id": "sQfM2VUhDjJT",
        "outputId": "1888ecdd-0d4e-4013-83a6-4f77654f700e"
      },
      "execution_count": 43,
      "outputs": [
        {
          "output_type": "stream",
          "name": "stdout",
          "text": [
            "Spearman correlation for colex and similarity: 0.18792126232233994\n",
            "Spearman correlation for colex and similarity: -0.024912800341047116\n",
            "Spearman correlation for log colex and log similarity: 0.2773296814356593\n",
            "Spearman correlation for log colex and log prior: -0.07352012433338015\n",
            "Spearman correlation for log colex and log similarity + log concreteness: 0.284362066110771\n"
          ]
        }
      ]
    },
    {
      "cell_type": "code",
      "source": [
        "X_train_vars = X_train[['log_reverse_prior', 'log_sim']].values.reshape(-1, 2)\n",
        "Y_train_vars = Y_train[['log_colex']].values.reshape(-1, 1)\n",
        "\n",
        "lin_reg_r = LinearRegression().fit(X_train_vars, Y_train_vars)\n",
        "\n",
        "# test on held-out data\n",
        "results_df['lin_reg_predict_r'] = lin_reg.predict(X_test[['log_reverse_prior', 'log_sim']])"
      ],
      "metadata": {
        "colab": {
          "base_uri": "https://localhost:8080/"
        },
        "id": "dMbABs-Tisxn",
        "outputId": "c8fb58fa-3a5a-4991-af78-d9134320de36"
      },
      "execution_count": 44,
      "outputs": [
        {
          "output_type": "stream",
          "name": "stderr",
          "text": [
            "/usr/local/lib/python3.7/dist-packages/sklearn/base.py:444: UserWarning: X has feature names, but LinearRegression was fitted without feature names\n",
            "  f\"X has feature names, but {self.__class__.__name__} was fitted without\"\n"
          ]
        }
      ]
    },
    {
      "cell_type": "code",
      "source": [
        "print('Spearman correlation for log colex and log similarity + log reverse concreteness:', results_df.corr()['lin_reg_predict_r']['log_colex']) "
      ],
      "metadata": {
        "colab": {
          "base_uri": "https://localhost:8080/"
        },
        "id": "KH7VNuL-i0M6",
        "outputId": "bf6ce308-0421-4bae-a3df-c0a6e9b3f25e"
      },
      "execution_count": 45,
      "outputs": [
        {
          "output_type": "stream",
          "name": "stdout",
          "text": [
            "Spearman correlation for log colex and log similarity + log reverse concreteness: 0.27131508923334724\n"
          ]
        }
      ]
    },
    {
      "cell_type": "code",
      "source": [
        "#@title plot showing that p(s_i) could conceivably be correlated with concreteness\n",
        "\n",
        "# X = filtered_vars_df[['prior']].values.reshape(-1, 1)  \n",
        "# Y = filtered_vars_df[['colex.freq']].values.reshape(-1, 1)\n",
        "# lin_reg_conc = LinearRegression().fit(X, Y)\n",
        "# filtered_vars_df['lin_reg_predict_prior'] = lin_reg_conc.predict(X)\n",
        "\n",
        "# plt.xlabel(\"p(s_i)\")\n",
        "# plt.ylabel(\"Colexification frequency\")\n",
        "# plt.scatter(filtered_vars_df['prior'], Y)\n",
        "# plt.plot(filtered_vars_df['prior'], filtered_vars_df['lin_reg_predict_prior'], c='red')\n",
        "# plt.show()"
      ],
      "metadata": {
        "colab": {
          "base_uri": "https://localhost:8080/",
          "height": 280
        },
        "id": "zSaAV5ZuOMeI",
        "outputId": "51cfc433-91c1-4ee4-e30b-ea7d009a117e",
        "cellView": "form"
      },
      "execution_count": null,
      "outputs": [
        {
          "output_type": "display_data",
          "data": {
            "text/plain": [
              "<Figure size 432x288 with 1 Axes>"
            ],
            "image/png": "[encoded data removed]"
          },
          "metadata": {
            "needs_background": "light"
          }
        }
      ]
    },
    {
      "cell_type": "markdown",
      "source": [
        "# Test prior accuracy\n",
        "with senseToConc, accuracy is 66%\n",
        "\n",
        "with senseToConc_Conservative, accuracy is 74%\n",
        "\n",
        "note that neither concreteness measure improves the Spearman correlation \n"
      ],
      "metadata": {
        "id": "oZceiBilv5tW"
      }
    },
    {
      "cell_type": "code",
      "source": [
        "# filter semshift by realizations > 1 \n",
        "# sem_shift_df = sem_shift_df[sem_shift_df['realizations'] > 1]"
      ],
      "metadata": {
        "id": "QmFT0h7xudWn"
      },
      "execution_count": 48,
      "outputs": []
    },
    {
      "cell_type": "code",
      "source": [
        "# get priors for semshift data\n",
        "\n",
        "# dictionary for concreteness and embeddings\n",
        "conc_dic = {} # This will be a dictionary that easily allows us to access the concreteness for all of our senses, saving time. \n",
        "error_senses = set()  # This represents the set of senses for which there was a problem converting them to embeddings. \n",
        "\n",
        "for i in range(len(sem_shift_df)): # Here we loop through each row of our dataframe, and if we can convert a sense s to an embedding then we set vec_dic[s] = embedding\n",
        "  row = sem_shift_df.iloc[i]\n",
        "  x = row[\"meaning1\"]\n",
        "  y = row[\"meaning2\"]\n",
        "\n",
        "  if x not in conc_dic:\n",
        "    x_conc = senseToConc_Conservative(x)\n",
        "    if not np.isnan(x_conc):\n",
        "      conc_dic[x] = x_conc\n",
        "    else:\n",
        "      error_senses.add(x)\n",
        "\n",
        "  if y not in conc_dic:\n",
        "    y_conc = senseToConc_Conservative(y)\n",
        "    if not np.isnan(y_conc):\n",
        "      conc_dic[y] = y_conc\n",
        "    else:\n",
        "      error_senses.add(y)\n",
        "\n",
        "error_senses = list(error_senses) # List of all senses that could not be converted to embeddings. Should be empty right now with phrase BERT\n",
        "senses = list(vec_dic.keys()) # List of all concepts\n",
        "\n",
        "sense_indices = {senses[i]:i for i in range(len(senses))} # sense_indices is a dictionary where its keys are senses and its values are the indices for which the senses appear in our list of senses."
      ],
      "metadata": {
        "id": "a3H1tDpjs-9a"
      },
      "execution_count": 50,
      "outputs": []
    },
    {
      "cell_type": "code",
      "source": [
        "# test prior accuracy\n",
        "\n",
        "# merge concreteness with shift df\n",
        "conc_df = pd.DataFrame.from_dict(conc_dic, orient='index').reset_index().rename(columns={'index':'Word', 0:'conc'})\n",
        "shift_conc_df = reduce(lambda  left,right: pd.merge(left,right,left_on='meaning1',right_on='Word', how='left'), [sem_shift_df, conc_df])\n",
        "shift_conc_df = reduce(lambda  left,right: pd.merge(left,right,left_on='meaning2',right_on='Word', how='left'), [shift_conc_df, conc_df])\n",
        "\n",
        "# calculate ratio and find accuracy\n",
        "shift_conc_df['ratio'] = shift_conc_df['conc_x'] / shift_conc_df['conc_y']\n",
        "shift_conc_df = shift_conc_df[~np.isnan(shift_conc_df['ratio'])]\n",
        "shift_conc_df['ratio_accurate'] = shift_conc_df['ratio'] > 1\n",
        "print(shift_conc_df['ratio_accurate'].value_counts())\n",
        "print(\"accuracy: \", shift_conc_df['ratio_accurate'].value_counts()[True] / len(shift_conc_df))"
      ],
      "metadata": {
        "colab": {
          "base_uri": "https://localhost:8080/"
        },
        "id": "28cXztstb3rU",
        "outputId": "a9a59fd2-cdee-4e2b-863f-f87317013d2f"
      },
      "execution_count": 51,
      "outputs": [
        {
          "output_type": "stream",
          "name": "stdout",
          "text": [
            "True     1088\n",
            "False     402\n",
            "Name: ratio_accurate, dtype: int64\n",
            "accuracy:  0.7302013422818792\n"
          ]
        }
      ]
    },
    {
      "cell_type": "markdown",
      "source": [
        "## Test frequency as well, for the write-up"
      ],
      "metadata": {
        "id": "embWrT_8uTfN"
      }
    },
    {
      "cell_type": "code",
      "source": [
        "# define how we map a sense to frequency\n",
        "\n",
        "skip_words = {'the', 'an', 'a', 'of','in', 'it', 'to', 'for', 'on', 'in'} # don't factor these into frequency\n",
        "\n",
        "# take all words in the sense and and average frequency (matches most entries in CLICS/DatSemShift, so less conservative)\n",
        "def senseToFreq(s):\n",
        "  s = s.lower()\n",
        "  for i in \"(),/\":\n",
        "    s = s.replace(i, \"\")\n",
        "  phrases = re.split(' ', s)\n",
        "  total_freq = 0\n",
        "  freq_data = 0\n",
        "  for p in phrases:\n",
        "    if p in skip_words:\n",
        "      continue\n",
        "    try:\n",
        "      freq = source_vars_df[source_vars_df['Word']==p]['Freq'].values[0]\n",
        "      if not np.isnan(freq):\n",
        "        total_freq += freq\n",
        "        freq_data += 1\n",
        "    except:\n",
        "      pass\n",
        "  if freq_data == 0:\n",
        "    total_freq = np.nan\n",
        "  else:\n",
        "    total_freq /= freq_data\n",
        "  return total_freq\n",
        "\n",
        "# ADD frequency of phrases separated by commas or slashes (matches fewer entries in CLICS/DatSemShift, so more conservative)\n",
        "def senseToFreq_Conservative(s):\n",
        "  s = s.lower()\n",
        "  phrases = re.split('/|,', s)\n",
        "  total_freq = 0\n",
        "  freq_data = 0\n",
        "  for p in phrases:\n",
        "    p = p.strip()\n",
        "    if (len(p.split(' ')) > 1) & (p.split(' ')[0] == 'to'):\n",
        "      p = re.sub(\"^to \", \"\", p)\n",
        "    try:\n",
        "      freq = source_vars_df[source_vars_df['Word']==p]['Freq'].values[0]\n",
        "      if not np.isnan(freq):\n",
        "        total_freq += freq\n",
        "        freq_data += 1\n",
        "    except:\n",
        "      pass\n",
        "  if freq_data == 0:\n",
        "    total_freq = np.nan\n",
        "  return total_freq"
      ],
      "metadata": {
        "id": "SHwvnrN7s9-I"
      },
      "execution_count": 62,
      "outputs": []
    },
    {
      "cell_type": "code",
      "source": [
        "# get priors for semshift data\n",
        "\n",
        "# dictionary for frequency and embeddings\n",
        "freq_dic = {} # This will be a dictionary that easily allows us to access the frequency for all of our senses, saving time. \n",
        "error_senses = set()  # This represents the set of senses for which there was a problem converting them to embeddings. \n",
        "\n",
        "for i in range(len(sem_shift_df)): # Here we loop through each row of our dataframe, and if we can convert a sense s to an embedding then we set vec_dic[s] = embedding\n",
        "  row = sem_shift_df.iloc[i]\n",
        "  x = row[\"meaning1\"]\n",
        "  y = row[\"meaning2\"]\n",
        "\n",
        "  if x not in freq_dic:\n",
        "    x_freq = senseToFreq_Conservative(x)\n",
        "    if not np.isnan(x_freq):\n",
        "      freq_dic[x] = x_freq\n",
        "    else:\n",
        "      error_senses.add(x)\n",
        "\n",
        "  if y not in freq_dic:\n",
        "    y_freq = senseToFreq_Conservative(y)\n",
        "    if not np.isnan(y_freq):\n",
        "      freq_dic[y] = y_freq\n",
        "    else:\n",
        "      error_senses.add(y)\n",
        "\n",
        "error_senses = list(error_senses) # List of all senses that could not be converted to embeddings. Should be empty right now with phrase BERT\n",
        "senses = list(vec_dic.keys()) # List of all concepts\n",
        "\n",
        "sense_indices = {senses[i]:i for i in range(len(senses))} # sense_indices is a dictionary where its keys are senses and its values are the indices for which the senses appear in our list of senses."
      ],
      "metadata": {
        "id": "ucZ6H8XUuWRy"
      },
      "execution_count": 67,
      "outputs": []
    },
    {
      "cell_type": "code",
      "source": [
        "# test prior accuracy\n",
        "\n",
        "# merge frequency with shift df\n",
        "freq_df = pd.DataFrame.from_dict(freq_dic, orient='index').reset_index().rename(columns={'index':'Word', 0:'freq'})\n",
        "shift_freq_df = reduce(lambda  left,right: pd.merge(left,right,left_on='meaning1',right_on='Word', how='left'), [sem_shift_df, freq_df])\n",
        "shift_freq_df = reduce(lambda  left,right: pd.merge(left,right,left_on='meaning2',right_on='Word', how='left'), [shift_freq_df, freq_df])\n",
        "\n",
        "# calculate ratio and find accuracy\n",
        "shift_freq_df['ratio'] = shift_freq_df['freq_x'] / shift_freq_df['freq_y']\n",
        "shift_freq_df = shift_freq_df[~np.isnan(shift_freq_df['ratio'])]\n",
        "shift_freq_df['ratio_accurate'] = shift_freq_df['ratio'] > 1\n",
        "print(shift_freq_df['ratio_accurate'].value_counts())\n",
        "print(\"accuracy: \", shift_freq_df['ratio_accurate'].value_counts()[True] / len(shift_freq_df))"
      ],
      "metadata": {
        "colab": {
          "base_uri": "https://localhost:8080/"
        },
        "id": "e5gHJMeWubx6",
        "outputId": "8c14d47e-b499-4e63-cd48-e6c6efbf97bb"
      },
      "execution_count": 69,
      "outputs": [
        {
          "output_type": "stream",
          "name": "stdout",
          "text": [
            "True     821\n",
            "False    615\n",
            "Name: ratio_accurate, dtype: int64\n",
            "accuracy:  0.5717270194986073\n"
          ]
        }
      ]
    }
  ],
  "metadata": {
    "colab": {
      "collapsed_sections": [],
      "name": "Evaluate Concreteness and Similarity Correlation",
      "provenance": [],
      "include_colab_link": true
    },
    "kernelspec": {
      "display_name": "Python 3",
      "name": "python3"
    },
    "language_info": {
      "name": "python"
    }
  },
  "nbformat": 4,
  "nbformat_minor": 0
}
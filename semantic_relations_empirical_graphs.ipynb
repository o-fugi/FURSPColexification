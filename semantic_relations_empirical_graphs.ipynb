{
  "cells": [
    {
      "cell_type": "markdown",
      "metadata": {
        "id": "view-in-github",
        "colab_type": "text"
      },
      "source": [
        "<a href=\"https://colab.research.google.com/github/o-fugi/FURSPColexification/blob/main/semantic_relations_empirical_graphs.ipynb\" target=\"_parent\"><img src=\"https://colab.research.google.com/assets/colab-badge.svg\" alt=\"Open In Colab\"/></a>"
      ]
    },
    {
      "cell_type": "code",
      "execution_count": null,
      "metadata": {
        "id": "BuGpEYzI0QeC"
      },
      "outputs": [],
      "source": [
        "import gensim.downloader as gs\n",
        "import numpy as np\n",
        "import pandas as pd\n",
        "import torch\n",
        "import re\n",
        "from torch import nn\n",
        "import math\n",
        "import pickle\n",
        "import matplotlib.pyplot as plt\n",
        "from functools import reduce\n",
        "from scipy.special import softmax\n",
        "from scipy.spatial import distance"
      ]
    },
    {
      "cell_type": "code",
      "execution_count": null,
      "metadata": {
        "id": "bF9oNYDrdmz6"
      },
      "outputs": [],
      "source": [
        "! pip install -U sentence-transformers\n",
        "from sentence_transformers import SentenceTransformer\n",
        "model = SentenceTransformer('whaleloops/phrase-bert')"
      ]
    },
    {
      "cell_type": "code",
      "execution_count": null,
      "metadata": {
        "id": "TC4WhKfAn8zE"
      },
      "outputs": [],
      "source": [
        "df_concrete = pd.read_csv('drive/MyDrive/FURSP/brysbaert_concreteness.csv') # Word, Conc.M\n",
        "df_valence = pd.read_csv('drive/MyDrive/FURSP/Ratings_Warriner_et_al.csv') # Word, V.Mean.Sum [or A for arousal, D for dominance]"
      ]
    },
    {
      "cell_type": "code",
      "source": [
        "# Methods to calculate valence and concreteness of a sense\n",
        "\n",
        "def calc_valence(sense: str):\n",
        "  s = sense.lower()\n",
        "  phrases = re.split('/|,', s)\n",
        "  total_valence = 0\n",
        "  valence_data = 0\n",
        "  for p in phrases:\n",
        "    p = p.strip()\n",
        "    if (len(p.split(' ')) > 1) & (p.split(' ')[0] == 'to'):\n",
        "      p = re.sub(\"^to \", \"\", p)\n",
        "    # This line removes all parts between parentheses:\n",
        "    # p = re.sub(\"([\\(\\[]).*?([\\)\\]])\", \"\\g<1>\\g<2>\", p)\n",
        "    try:\n",
        "      valence = df_valence[df_valence['Word']==p]['V.Mean.Sum'].values[0]\n",
        "      if not np.isnan(valence):\n",
        "        total_valence += valence\n",
        "        valence_data += 1\n",
        "    except:\n",
        "      pass\n",
        "  if valence_data == 0:\n",
        "    total_valence = np.nan\n",
        "  else:\n",
        "    total_valence /= valence_data\n",
        "  return total_valence\n",
        "\n",
        "def calc_concrete(sense: str):\n",
        "  s = sense.lower()\n",
        "  phrases = re.split('/|,', s)\n",
        "  total_conc = 0\n",
        "  conc_data = 0\n",
        "  for p in phrases:\n",
        "    p = p.strip()\n",
        "    if (len(p.split(' ')) > 1) & (p.split(' ')[0] == 'to'):\n",
        "      p = re.sub(\"^to \", \"\", p)\n",
        "    # This line removes all parts between parentheses:\n",
        "    # p = re.sub(\"([\\(\\[]).*?([\\)\\]])\", \"\\g<1>\\g<2>\", p)\n",
        "    try:\n",
        "      conc = df_concrete[df_concrete['Word']==p]['Conc.M'].values[0]\n",
        "      if not np.isnan(conc):\n",
        "        total_conc += conc\n",
        "        conc_data += 1\n",
        "    except:\n",
        "      pass\n",
        "  if conc_data == 0:\n",
        "    total_conc = np.nan\n",
        "  else:\n",
        "    total_conc /= conc_data\n",
        "  return total_conc"
      ],
      "metadata": {
        "id": "7n5m3CdW4-TB"
      },
      "execution_count": 163,
      "outputs": []
    },
    {
      "cell_type": "markdown",
      "source": [
        "CLICS plots\n",
        "---\n",
        "\n"
      ],
      "metadata": {
        "id": "RPH0Rstg6Mjn"
      }
    },
    {
      "cell_type": "code",
      "execution_count": 77,
      "metadata": {
        "colab": {
          "base_uri": "https://localhost:8080/",
          "height": 206
        },
        "id": "b4qWN2pi0cqv",
        "outputId": "7bd3dd52-0d64-4aec-d9c3-4f4a6fed8183"
      },
      "outputs": [
        {
          "output_type": "execute_result",
          "data": {
            "text/plain": [
              "   colex.freq Concepticon_Gloss.xo Concepticon_Gloss.yo  vision  assoc  affec  \\\n",
              "0         340                 TREE                 WOOD       1      1      1   \n",
              "1         326                  LEG                 FOOT       1      1      1   \n",
              "2         296                 MOON                MONTH       0      1      1   \n",
              "3         291                   GO                 WALK       0      1      1   \n",
              "4         284                 HAND                  ARM       1      1      1   \n",
              "\n",
              "   tax  fully_covered  \n",
              "0    1              1  \n",
              "1    1              1  \n",
              "2    1              0  \n",
              "3    1              0  \n",
              "4    1              1  "
            ],
            "text/html": [
              "\n",
              "  <div id=\"df-8a0bfa38-ab4d-4cbc-a141-1ed1652789e7\">\n",
              "    <div class=\"colab-df-container\">\n",
              "      <div>\n",
              "<style scoped>\n",
              "    .dataframe tbody tr th:only-of-type {\n",
              "        vertical-align: middle;\n",
              "    }\n",
              "\n",
              "    .dataframe tbody tr th {\n",
              "        vertical-align: top;\n",
              "    }\n",
              "\n",
              "    .dataframe thead th {\n",
              "        text-align: right;\n",
              "    }\n",
              "</style>\n",
              "<table border=\"1\" class=\"dataframe\">\n",
              "  <thead>\n",
              "    <tr style=\"text-align: right;\">\n",
              "      <th></th>\n",
              "      <th>colex.freq</th>\n",
              "      <th>Concepticon_Gloss.xo</th>\n",
              "      <th>Concepticon_Gloss.yo</th>\n",
              "      <th>vision</th>\n",
              "      <th>assoc</th>\n",
              "      <th>affec</th>\n",
              "      <th>tax</th>\n",
              "      <th>fully_covered</th>\n",
              "    </tr>\n",
              "  </thead>\n",
              "  <tbody>\n",
              "    <tr>\n",
              "      <th>0</th>\n",
              "      <td>340</td>\n",
              "      <td>TREE</td>\n",
              "      <td>WOOD</td>\n",
              "      <td>1</td>\n",
              "      <td>1</td>\n",
              "      <td>1</td>\n",
              "      <td>1</td>\n",
              "      <td>1</td>\n",
              "    </tr>\n",
              "    <tr>\n",
              "      <th>1</th>\n",
              "      <td>326</td>\n",
              "      <td>LEG</td>\n",
              "      <td>FOOT</td>\n",
              "      <td>1</td>\n",
              "      <td>1</td>\n",
              "      <td>1</td>\n",
              "      <td>1</td>\n",
              "      <td>1</td>\n",
              "    </tr>\n",
              "    <tr>\n",
              "      <th>2</th>\n",
              "      <td>296</td>\n",
              "      <td>MOON</td>\n",
              "      <td>MONTH</td>\n",
              "      <td>0</td>\n",
              "      <td>1</td>\n",
              "      <td>1</td>\n",
              "      <td>1</td>\n",
              "      <td>0</td>\n",
              "    </tr>\n",
              "    <tr>\n",
              "      <th>3</th>\n",
              "      <td>291</td>\n",
              "      <td>GO</td>\n",
              "      <td>WALK</td>\n",
              "      <td>0</td>\n",
              "      <td>1</td>\n",
              "      <td>1</td>\n",
              "      <td>1</td>\n",
              "      <td>0</td>\n",
              "    </tr>\n",
              "    <tr>\n",
              "      <th>4</th>\n",
              "      <td>284</td>\n",
              "      <td>HAND</td>\n",
              "      <td>ARM</td>\n",
              "      <td>1</td>\n",
              "      <td>1</td>\n",
              "      <td>1</td>\n",
              "      <td>1</td>\n",
              "      <td>1</td>\n",
              "    </tr>\n",
              "  </tbody>\n",
              "</table>\n",
              "</div>\n",
              "      <button class=\"colab-df-convert\" onclick=\"convertToInteractive('df-8a0bfa38-ab4d-4cbc-a141-1ed1652789e7')\"\n",
              "              title=\"Convert this dataframe to an interactive table.\"\n",
              "              style=\"display:none;\">\n",
              "        \n",
              "  <svg xmlns=\"http://www.w3.org/2000/svg\" height=\"24px\"viewBox=\"0 0 24 24\"\n",
              "       width=\"24px\">\n",
              "    <path d=\"M0 0h24v24H0V0z\" fill=\"none\"/>\n",
              "    <path d=\"M18.56 5.44l.94 2.06.94-2.06 2.06-.94-2.06-.94-.94-2.06-.94 2.06-2.06.94zm-11 1L8.5 8.5l.94-2.06 2.06-.94-2.06-.94L8.5 2.5l-.94 2.06-2.06.94zm10 10l.94 2.06.94-2.06 2.06-.94-2.06-.94-.94-2.06-.94 2.06-2.06.94z\"/><path d=\"M17.41 7.96l-1.37-1.37c-.4-.4-.92-.59-1.43-.59-.52 0-1.04.2-1.43.59L10.3 9.45l-7.72 7.72c-.78.78-.78 2.05 0 2.83L4 21.41c.39.39.9.59 1.41.59.51 0 1.02-.2 1.41-.59l7.78-7.78 2.81-2.81c.8-.78.8-2.07 0-2.86zM5.41 20L4 18.59l7.72-7.72 1.47 1.35L5.41 20z\"/>\n",
              "  </svg>\n",
              "      </button>\n",
              "      \n",
              "  <style>\n",
              "    .colab-df-container {\n",
              "      display:flex;\n",
              "      flex-wrap:wrap;\n",
              "      gap: 12px;\n",
              "    }\n",
              "\n",
              "    .colab-df-convert {\n",
              "      background-color: #E8F0FE;\n",
              "      border: none;\n",
              "      border-radius: 50%;\n",
              "      cursor: pointer;\n",
              "      display: none;\n",
              "      fill: #1967D2;\n",
              "      height: 32px;\n",
              "      padding: 0 0 0 0;\n",
              "      width: 32px;\n",
              "    }\n",
              "\n",
              "    .colab-df-convert:hover {\n",
              "      background-color: #E2EBFA;\n",
              "      box-shadow: 0px 1px 2px rgba(60, 64, 67, 0.3), 0px 1px 3px 1px rgba(60, 64, 67, 0.15);\n",
              "      fill: #174EA6;\n",
              "    }\n",
              "\n",
              "    [theme=dark] .colab-df-convert {\n",
              "      background-color: #3B4455;\n",
              "      fill: #D2E3FC;\n",
              "    }\n",
              "\n",
              "    [theme=dark] .colab-df-convert:hover {\n",
              "      background-color: #434B5C;\n",
              "      box-shadow: 0px 1px 3px 1px rgba(0, 0, 0, 0.15);\n",
              "      filter: drop-shadow(0px 1px 2px rgba(0, 0, 0, 0.3));\n",
              "      fill: #FFFFFF;\n",
              "    }\n",
              "  </style>\n",
              "\n",
              "      <script>\n",
              "        const buttonEl =\n",
              "          document.querySelector('#df-8a0bfa38-ab4d-4cbc-a141-1ed1652789e7 button.colab-df-convert');\n",
              "        buttonEl.style.display =\n",
              "          google.colab.kernel.accessAllowed ? 'block' : 'none';\n",
              "\n",
              "        async function convertToInteractive(key) {\n",
              "          const element = document.querySelector('#df-8a0bfa38-ab4d-4cbc-a141-1ed1652789e7');\n",
              "          const dataTable =\n",
              "            await google.colab.kernel.invokeFunction('convertToInteractive',\n",
              "                                                     [key], {});\n",
              "          if (!dataTable) return;\n",
              "\n",
              "          const docLinkHtml = 'Like what you see? Visit the ' +\n",
              "            '<a target=\"_blank\" href=https://colab.research.google.com/notebooks/data_table.ipynb>data table notebook</a>'\n",
              "            + ' to learn more about interactive tables.';\n",
              "          element.innerHTML = '';\n",
              "          dataTable['output_type'] = 'display_data';\n",
              "          await google.colab.output.renderOutput(dataTable, element);\n",
              "          const docLink = document.createElement('div');\n",
              "          docLink.innerHTML = docLinkHtml;\n",
              "          element.appendChild(docLink);\n",
              "        }\n",
              "      </script>\n",
              "    </div>\n",
              "  </div>\n",
              "  "
            ]
          },
          "metadata": {},
          "execution_count": 77
        }
      ],
      "source": [
        "NUM_LANGUAGE = 3156 # This is the number of languages used in the CLICS database\n",
        "df_clics = pd.read_csv(\"drive/MyDrive/FURSP/clics-colexification-data.csv\") # Change path as needed\n",
        "df_clics.head()"
      ]
    },
    {
      "cell_type": "code",
      "source": [
        "senses_clics = list(pd.concat([df_clics['Concepticon_Gloss.xo'], df_clics['Concepticon_Gloss.yo']]).unique())"
      ],
      "metadata": {
        "id": "O2SyOJFmyaQm"
      },
      "execution_count": 93,
      "outputs": []
    },
    {
      "cell_type": "code",
      "source": [
        "# Create dictionaries of sense -> valence and sense -> concreteness\n",
        "\n",
        "valence_dict_clics = {}\n",
        "concrete_dict_clics = {}\n",
        "for i in range(len(senses_clics)):\n",
        "  valence_dict_clics[senses_clics[i]] = calc_valence(senses_clics[i])\n",
        "  concrete_dict_clics[senses_clics[i]] = calc_concrete(senses_clics[i])\n",
        "  \n",
        "def get_valence_clics(sense: str):\n",
        "  return valence_dict_clics[sense]\n",
        "\n",
        "def get_concrete_clics(sense: str):\n",
        "  return concrete_dict_clics[sense]"
      ],
      "metadata": {
        "id": "lnOYExEkxwLz"
      },
      "execution_count": 120,
      "outputs": []
    },
    {
      "cell_type": "code",
      "execution_count": 119,
      "metadata": {
        "id": "FET8zlDrjY5k"
      },
      "outputs": [],
      "source": [
        "# Create dictionary of sense -> phraseBERT embedding\n",
        "\n",
        "sense_embs_clics = model.encode(senses_clics)\n",
        "sense_embs_dict_clics = {}\n",
        "for i in range(len(senses_clics)):\n",
        "  sense_embs_dict_clics[senses_clics[i]] = sense_embs_clics[i]\n",
        "\n",
        "def get_emb_clics(sense: str):\n",
        "  return sense_embs_dict_clics[sense]"
      ]
    },
    {
      "cell_type": "code",
      "execution_count": 133,
      "metadata": {
        "id": "faxOvmEN6pNz"
      },
      "outputs": [],
      "source": [
        "# Methods to create the values of the scatterplot (adding them into the original dataframe)\n",
        "\n",
        "def get_cos_sim_clics(sense1: str, sense2: str):\n",
        "  s1_emb = get_emb_clics(sense1)\n",
        "  s2_emb = get_emb_clics(sense2)\n",
        "  return 1 - distance.cosine(s1_emb, s2_emb)\n",
        "\n",
        "def get_valence_dif_clics(sense1: str, sense2: str):\n",
        "  return -abs(get_valence_clics(sense1) - get_valence_clics(sense2))\n",
        "\n",
        "def get_concrete_dif_clics(sense1: str, sense2: str):\n",
        "  return -abs(get_concrete_clics(sense1) - get_concrete_clics(sense2))\n",
        "\n",
        "# Add the values of the scatterplot, based on desired semantic relation\n",
        "def create_graph_vals_clics(relation: str):\n",
        "  if relation == \"relatedness\":\n",
        "    df_clics[\"cos_sim\"] = df_clics.apply(lambda x : get_cos_sim_clics(x['Concepticon_Gloss.xo'], x['Concepticon_Gloss.yo']) , axis=1)\n",
        "  elif relation == \"orientation\":\n",
        "    df_clics[\"valence_dif\"] = df_clics.apply(lambda x : get_valence_dif_clics(x['Concepticon_Gloss.xo'], x['Concepticon_Gloss.yo']) , axis=1)\n",
        "  elif relation == \"metaphoricity\":\n",
        "    df_clics[\"concrete_dif\"] = df_clics.apply(lambda x : get_concrete_dif_clics(x['Concepticon_Gloss.xo'], x['Concepticon_Gloss.yo']) , axis=1)"
      ]
    },
    {
      "cell_type": "code",
      "execution_count": 193,
      "metadata": {
        "colab": {
          "base_uri": "https://localhost:8080/",
          "height": 295
        },
        "id": "8P_8MvcMig47",
        "outputId": "55c99636-1106-4830-9dd8-bd794c9275d2"
      },
      "outputs": [
        {
          "output_type": "display_data",
          "data": {
            "text/plain": [
              "<Figure size 432x288 with 1 Axes>"
            ],
            "image/png": "[encoded data removed]"
          },
          "metadata": {
            "needs_background": "light"
          }
        }
      ],
      "source": [
        "# Semantic relatedness scatterplot\n",
        "\n",
        "create_graph_vals_clics(\"relatedness\")\n",
        "plt.scatter(df_clics[\"cos_sim\"], df_clics[\"colex.freq\"], s=10)\n",
        "plt.title(\"Colex frequency vs semantic relatedness of sense pairs\")\n",
        "plt.xlabel(\"Cosine similarity of phraseBERT embeddings (higher value = phrases are more similar)\")\n",
        "plt.ylabel(\"Colexification frequency (from CLICS)\")\n",
        "plt.show()"
      ]
    },
    {
      "cell_type": "code",
      "execution_count": 192,
      "metadata": {
        "colab": {
          "base_uri": "https://localhost:8080/",
          "height": 295
        },
        "id": "znx14Xt8lvjL",
        "outputId": "9cbe85d6-bdab-4e8b-db9a-ccc586c30bad"
      },
      "outputs": [
        {
          "output_type": "display_data",
          "data": {
            "text/plain": [
              "<Figure size 432x288 with 1 Axes>"
            ],
            "image/png": "[encoded data removed]"
          },
          "metadata": {
            "needs_background": "light"
          }
        }
      ],
      "source": [
        "# Semantic orientation scatterplot\n",
        "\n",
        "create_graph_vals_clics(\"orientation\")\n",
        "plt.scatter(df_clics[\"valence_dif\"], df_clics[\"colex.freq\"], s=10)\n",
        "plt.title(\"Colex frequency vs similarity in valences of sense pairs\")\n",
        "plt.xlabel(\"Negative absolute value of difference in valences (higher value = valences are closer together)\")\n",
        "plt.ylabel(\"Colexification frequency (from CLICS)\")\n",
        "plt.show()"
      ]
    },
    {
      "cell_type": "code",
      "execution_count": 191,
      "metadata": {
        "id": "OHlYXrl7pPgF",
        "colab": {
          "base_uri": "https://localhost:8080/",
          "height": 295
        },
        "outputId": "ae337ac3-d1c0-4f78-d53b-f6fdff749e6e"
      },
      "outputs": [
        {
          "output_type": "display_data",
          "data": {
            "text/plain": [
              "<Figure size 432x288 with 1 Axes>"
            ],
            "image/png": "[encoded data removed]"
          },
          "metadata": {
            "needs_background": "light"
          }
        }
      ],
      "source": [
        "# Metaphoricity scatterplot\n",
        "\n",
        "create_graph_vals_clics(\"metaphoricity\")\n",
        "plt.scatter(df_clics[\"concrete_dif\"], df_clics[\"colex.freq\"], s=10)\n",
        "plt.title(\"Colex frequency vs similarity in metaphoricity of sense pairs\")\n",
        "plt.xlabel(\"Negative absolute value of difference in concreteness (higher value = concreteness values are closer together)\")\n",
        "plt.ylabel(\"Colexification frequency (from CLICS)\")\n",
        "plt.show()"
      ]
    },
    {
      "cell_type": "code",
      "source": [
        "plt.title(\"Histogram of CLICS colexification frequency (for a limited range)\")\n",
        "plt.hist(df_clics[\"colex.freq\"], bins=range(100))\n",
        "plt.xlim(0, 100)\n",
        "plt.ylim(0, 2000)\n",
        "plt.show()"
      ],
      "metadata": {
        "colab": {
          "base_uri": "https://localhost:8080/",
          "height": 281
        },
        "id": "tZ3IVr2HRMuw",
        "outputId": "5767b11b-3f4a-4100-ddbd-999548f5c8dc"
      },
      "execution_count": 179,
      "outputs": [
        {
          "output_type": "display_data",
          "data": {
            "text/plain": [
              "<Figure size 432x288 with 1 Axes>"
            ],
            "image/png": "[encoded data removed]"
          },
          "metadata": {
            "needs_background": "light"
          }
        }
      ]
    },
    {
      "cell_type": "markdown",
      "source": [
        "\n",
        "DatSemShift plots\n",
        "---\n",
        "\n",
        "\n",
        "\n"
      ],
      "metadata": {
        "id": "heuVWvoy58Fl"
      }
    },
    {
      "cell_type": "code",
      "source": [
        "datSemShift = pd.read_csv(\"drive/MyDrive/FURSP/datasemshift.csv\")\n",
        "datSemShift = datSemShift[(datSemShift['gendirection'] == '→')]\n",
        "datSemShift = datSemShift[(datSemShift['type'] == ' Semantic evolution') | (datSemShift['type'] == ' Polysemy')]\n",
        "datSemShift = datSemShift[(datSemShift['language1'] == datSemShift['language2'])]\n",
        "datSemShift = datSemShift[(datSemShift['lexeme1'] == datSemShift['lexeme2'])]\n",
        "datSemShift = datSemShift[~datSemShift['meaning1'].str.contains('<')]\n",
        "datSemShift = datSemShift[(datSemShift['status']!='Suspended') & (datSemShift['status']!='Rejected')]\n",
        "\n",
        "# Remove outliers\n",
        "datSemShift = datSemShift[datSemShift[\"realizations\"] < 250]\n",
        "\n",
        "datSemShift.head()"
      ],
      "metadata": {
        "colab": {
          "base_uri": "https://localhost:8080/",
          "height": 461
        },
        "id": "_LYQ8Stc57PA",
        "outputId": "bce572d0-b8d4-47cb-cbd2-b3e538efc52c"
      },
      "execution_count": 141,
      "outputs": [
        {
          "output_type": "execute_result",
          "data": {
            "text/plain": [
              "   Unnamed: 0  id class             meaning1 direction              meaning2  \\\n",
              "0           0   1     V  to calculate, count         →  to take into account   \n",
              "3           3   1     V  to calculate, count         —  to take into account   \n",
              "4           4   1     V  to calculate, count         —  to take into account   \n",
              "5           5   1     V  to calculate, count       NaN  to take into account   \n",
              "6           6   1     V  to calculate, count       NaN  to take into account   \n",
              "\n",
              "        type language1 language2     lexeme1     lexeme2 gendirection  \\\n",
              "0   Polysemy  Sanskrit  Sanskrit         gaṇ         gaṇ            →   \n",
              "3   Polysemy   Russian   Russian  sčitat'sja  sčitat'sja            →   \n",
              "4   Polysemy    French    French     compter     compter            →   \n",
              "5   Polysemy   English   English       count       count            →   \n",
              "6   Polysemy   Turkish   Turkish        say-        say-            →   \n",
              "\n",
              "     status comment techcomment contributor  realizations  \n",
              "0  Accepted     NaN         NaN          AZ            13  \n",
              "3  Accepted     NaN         NaN          AZ            13  \n",
              "4  Accepted     NaN         NaN          AZ            13  \n",
              "5  Accepted     NaN         NaN          AZ            13  \n",
              "6  Accepted     NaN         NaN          AZ            13  "
            ],
            "text/html": [
              "\n",
              "  <div id=\"df-b243ceb1-3e1a-46b1-9b49-4db9ca3a3be2\">\n",
              "    <div class=\"colab-df-container\">\n",
              "      <div>\n",
              "<style scoped>\n",
              "    .dataframe tbody tr th:only-of-type {\n",
              "        vertical-align: middle;\n",
              "    }\n",
              "\n",
              "    .dataframe tbody tr th {\n",
              "        vertical-align: top;\n",
              "    }\n",
              "\n",
              "    .dataframe thead th {\n",
              "        text-align: right;\n",
              "    }\n",
              "</style>\n",
              "<table border=\"1\" class=\"dataframe\">\n",
              "  <thead>\n",
              "    <tr style=\"text-align: right;\">\n",
              "      <th></th>\n",
              "      <th>Unnamed: 0</th>\n",
              "      <th>id</th>\n",
              "      <th>class</th>\n",
              "      <th>meaning1</th>\n",
              "      <th>direction</th>\n",
              "      <th>meaning2</th>\n",
              "      <th>type</th>\n",
              "      <th>language1</th>\n",
              "      <th>language2</th>\n",
              "      <th>lexeme1</th>\n",
              "      <th>lexeme2</th>\n",
              "      <th>gendirection</th>\n",
              "      <th>status</th>\n",
              "      <th>comment</th>\n",
              "      <th>techcomment</th>\n",
              "      <th>contributor</th>\n",
              "      <th>realizations</th>\n",
              "    </tr>\n",
              "  </thead>\n",
              "  <tbody>\n",
              "    <tr>\n",
              "      <th>0</th>\n",
              "      <td>0</td>\n",
              "      <td>1</td>\n",
              "      <td>V</td>\n",
              "      <td>to calculate, count</td>\n",
              "      <td>→</td>\n",
              "      <td>to take into account</td>\n",
              "      <td>Polysemy</td>\n",
              "      <td>Sanskrit</td>\n",
              "      <td>Sanskrit</td>\n",
              "      <td>gaṇ</td>\n",
              "      <td>gaṇ</td>\n",
              "      <td>→</td>\n",
              "      <td>Accepted</td>\n",
              "      <td>NaN</td>\n",
              "      <td>NaN</td>\n",
              "      <td>AZ</td>\n",
              "      <td>13</td>\n",
              "    </tr>\n",
              "    <tr>\n",
              "      <th>3</th>\n",
              "      <td>3</td>\n",
              "      <td>1</td>\n",
              "      <td>V</td>\n",
              "      <td>to calculate, count</td>\n",
              "      <td>—</td>\n",
              "      <td>to take into account</td>\n",
              "      <td>Polysemy</td>\n",
              "      <td>Russian</td>\n",
              "      <td>Russian</td>\n",
              "      <td>sčitat'sja</td>\n",
              "      <td>sčitat'sja</td>\n",
              "      <td>→</td>\n",
              "      <td>Accepted</td>\n",
              "      <td>NaN</td>\n",
              "      <td>NaN</td>\n",
              "      <td>AZ</td>\n",
              "      <td>13</td>\n",
              "    </tr>\n",
              "    <tr>\n",
              "      <th>4</th>\n",
              "      <td>4</td>\n",
              "      <td>1</td>\n",
              "      <td>V</td>\n",
              "      <td>to calculate, count</td>\n",
              "      <td>—</td>\n",
              "      <td>to take into account</td>\n",
              "      <td>Polysemy</td>\n",
              "      <td>French</td>\n",
              "      <td>French</td>\n",
              "      <td>compter</td>\n",
              "      <td>compter</td>\n",
              "      <td>→</td>\n",
              "      <td>Accepted</td>\n",
              "      <td>NaN</td>\n",
              "      <td>NaN</td>\n",
              "      <td>AZ</td>\n",
              "      <td>13</td>\n",
              "    </tr>\n",
              "    <tr>\n",
              "      <th>5</th>\n",
              "      <td>5</td>\n",
              "      <td>1</td>\n",
              "      <td>V</td>\n",
              "      <td>to calculate, count</td>\n",
              "      <td>NaN</td>\n",
              "      <td>to take into account</td>\n",
              "      <td>Polysemy</td>\n",
              "      <td>English</td>\n",
              "      <td>English</td>\n",
              "      <td>count</td>\n",
              "      <td>count</td>\n",
              "      <td>→</td>\n",
              "      <td>Accepted</td>\n",
              "      <td>NaN</td>\n",
              "      <td>NaN</td>\n",
              "      <td>AZ</td>\n",
              "      <td>13</td>\n",
              "    </tr>\n",
              "    <tr>\n",
              "      <th>6</th>\n",
              "      <td>6</td>\n",
              "      <td>1</td>\n",
              "      <td>V</td>\n",
              "      <td>to calculate, count</td>\n",
              "      <td>NaN</td>\n",
              "      <td>to take into account</td>\n",
              "      <td>Polysemy</td>\n",
              "      <td>Turkish</td>\n",
              "      <td>Turkish</td>\n",
              "      <td>say-</td>\n",
              "      <td>say-</td>\n",
              "      <td>→</td>\n",
              "      <td>Accepted</td>\n",
              "      <td>NaN</td>\n",
              "      <td>NaN</td>\n",
              "      <td>AZ</td>\n",
              "      <td>13</td>\n",
              "    </tr>\n",
              "  </tbody>\n",
              "</table>\n",
              "</div>\n",
              "      <button class=\"colab-df-convert\" onclick=\"convertToInteractive('df-b243ceb1-3e1a-46b1-9b49-4db9ca3a3be2')\"\n",
              "              title=\"Convert this dataframe to an interactive table.\"\n",
              "              style=\"display:none;\">\n",
              "        \n",
              "  <svg xmlns=\"http://www.w3.org/2000/svg\" height=\"24px\"viewBox=\"0 0 24 24\"\n",
              "       width=\"24px\">\n",
              "    <path d=\"M0 0h24v24H0V0z\" fill=\"none\"/>\n",
              "    <path d=\"M18.56 5.44l.94 2.06.94-2.06 2.06-.94-2.06-.94-.94-2.06-.94 2.06-2.06.94zm-11 1L8.5 8.5l.94-2.06 2.06-.94-2.06-.94L8.5 2.5l-.94 2.06-2.06.94zm10 10l.94 2.06.94-2.06 2.06-.94-2.06-.94-.94-2.06-.94 2.06-2.06.94z\"/><path d=\"M17.41 7.96l-1.37-1.37c-.4-.4-.92-.59-1.43-.59-.52 0-1.04.2-1.43.59L10.3 9.45l-7.72 7.72c-.78.78-.78 2.05 0 2.83L4 21.41c.39.39.9.59 1.41.59.51 0 1.02-.2 1.41-.59l7.78-7.78 2.81-2.81c.8-.78.8-2.07 0-2.86zM5.41 20L4 18.59l7.72-7.72 1.47 1.35L5.41 20z\"/>\n",
              "  </svg>\n",
              "      </button>\n",
              "      \n",
              "  <style>\n",
              "    .colab-df-container {\n",
              "      display:flex;\n",
              "      flex-wrap:wrap;\n",
              "      gap: 12px;\n",
              "    }\n",
              "\n",
              "    .colab-df-convert {\n",
              "      background-color: #E8F0FE;\n",
              "      border: none;\n",
              "      border-radius: 50%;\n",
              "      cursor: pointer;\n",
              "      display: none;\n",
              "      fill: #1967D2;\n",
              "      height: 32px;\n",
              "      padding: 0 0 0 0;\n",
              "      width: 32px;\n",
              "    }\n",
              "\n",
              "    .colab-df-convert:hover {\n",
              "      background-color: #E2EBFA;\n",
              "      box-shadow: 0px 1px 2px rgba(60, 64, 67, 0.3), 0px 1px 3px 1px rgba(60, 64, 67, 0.15);\n",
              "      fill: #174EA6;\n",
              "    }\n",
              "\n",
              "    [theme=dark] .colab-df-convert {\n",
              "      background-color: #3B4455;\n",
              "      fill: #D2E3FC;\n",
              "    }\n",
              "\n",
              "    [theme=dark] .colab-df-convert:hover {\n",
              "      background-color: #434B5C;\n",
              "      box-shadow: 0px 1px 3px 1px rgba(0, 0, 0, 0.15);\n",
              "      filter: drop-shadow(0px 1px 2px rgba(0, 0, 0, 0.3));\n",
              "      fill: #FFFFFF;\n",
              "    }\n",
              "  </style>\n",
              "\n",
              "      <script>\n",
              "        const buttonEl =\n",
              "          document.querySelector('#df-b243ceb1-3e1a-46b1-9b49-4db9ca3a3be2 button.colab-df-convert');\n",
              "        buttonEl.style.display =\n",
              "          google.colab.kernel.accessAllowed ? 'block' : 'none';\n",
              "\n",
              "        async function convertToInteractive(key) {\n",
              "          const element = document.querySelector('#df-b243ceb1-3e1a-46b1-9b49-4db9ca3a3be2');\n",
              "          const dataTable =\n",
              "            await google.colab.kernel.invokeFunction('convertToInteractive',\n",
              "                                                     [key], {});\n",
              "          if (!dataTable) return;\n",
              "\n",
              "          const docLinkHtml = 'Like what you see? Visit the ' +\n",
              "            '<a target=\"_blank\" href=https://colab.research.google.com/notebooks/data_table.ipynb>data table notebook</a>'\n",
              "            + ' to learn more about interactive tables.';\n",
              "          element.innerHTML = '';\n",
              "          dataTable['output_type'] = 'display_data';\n",
              "          await google.colab.output.renderOutput(dataTable, element);\n",
              "          const docLink = document.createElement('div');\n",
              "          docLink.innerHTML = docLinkHtml;\n",
              "          element.appendChild(docLink);\n",
              "        }\n",
              "      </script>\n",
              "    </div>\n",
              "  </div>\n",
              "  "
            ]
          },
          "metadata": {},
          "execution_count": 141
        }
      ]
    },
    {
      "cell_type": "code",
      "source": [
        "df_dss = datSemShift.groupby(['meaning1', 'meaning2'], as_index=False).first()\n",
        "df_dss.head()"
      ],
      "metadata": {
        "colab": {
          "base_uri": "https://localhost:8080/",
          "height": 392
        },
        "id": "Unc3W3yS-wto",
        "outputId": "87f1a41e-0b7e-4053-f619-cba6ebd08bc8"
      },
      "execution_count": 142,
      "outputs": [
        {
          "output_type": "execute_result",
          "data": {
            "text/plain": [
              "                              meaning1                     meaning2  \\\n",
              "0                          (gun)powder                        quick   \n",
              "1                          (gun)powder  small quantity of something   \n",
              "2                               August                      harvest   \n",
              "3  Coleus (Plectranthus) rotundifolius                       potato   \n",
              "4                               Easter                     ladybird   \n",
              "\n",
              "   Unnamed: 0    id class direction       type         language1  \\\n",
              "0       13668  3441   Adj         →   Polysemy          Tigrinya   \n",
              "1        8352  1594  None      None   Polysemy        Tabassaran   \n",
              "2       11040  2405  None         →   Polysemy  Mandarin Chinese   \n",
              "3       19863  5843  None         →   Polysemy              Zulu   \n",
              "4       19225  5629  None         →   Polysemy          Armenian   \n",
              "\n",
              "          language2        lexeme1        lexeme2 gendirection   status  \\\n",
              "0          Tigrinya          barud          barud            →  Single*   \n",
              "1        Tabassaran          barut          barut            →   Single   \n",
              "2  Mandarin Chinese        qiū (秋)        qiū (秋)            →      New   \n",
              "3              Zulu       izambane       izambane            →      New   \n",
              "4          Armenian  zatik (զատիկ)  zatik (զատիկ)            →      New   \n",
              "\n",
              "    comment                       techcomment contributor  realizations  \n",
              "0      None                              None          MB             1  \n",
              "1              Только ли о сыпучих веществах?          TM             1  \n",
              "2  Buck 512                              None          MR             2  \n",
              "3      None                              None          MR             1  \n",
              "4      None                              None          MR             2  "
            ],
            "text/html": [
              "\n",
              "  <div id=\"df-200e0b76-552e-4982-a7c9-cd676000ed33\">\n",
              "    <div class=\"colab-df-container\">\n",
              "      <div>\n",
              "<style scoped>\n",
              "    .dataframe tbody tr th:only-of-type {\n",
              "        vertical-align: middle;\n",
              "    }\n",
              "\n",
              "    .dataframe tbody tr th {\n",
              "        vertical-align: top;\n",
              "    }\n",
              "\n",
              "    .dataframe thead th {\n",
              "        text-align: right;\n",
              "    }\n",
              "</style>\n",
              "<table border=\"1\" class=\"dataframe\">\n",
              "  <thead>\n",
              "    <tr style=\"text-align: right;\">\n",
              "      <th></th>\n",
              "      <th>meaning1</th>\n",
              "      <th>meaning2</th>\n",
              "      <th>Unnamed: 0</th>\n",
              "      <th>id</th>\n",
              "      <th>class</th>\n",
              "      <th>direction</th>\n",
              "      <th>type</th>\n",
              "      <th>language1</th>\n",
              "      <th>language2</th>\n",
              "      <th>lexeme1</th>\n",
              "      <th>lexeme2</th>\n",
              "      <th>gendirection</th>\n",
              "      <th>status</th>\n",
              "      <th>comment</th>\n",
              "      <th>techcomment</th>\n",
              "      <th>contributor</th>\n",
              "      <th>realizations</th>\n",
              "    </tr>\n",
              "  </thead>\n",
              "  <tbody>\n",
              "    <tr>\n",
              "      <th>0</th>\n",
              "      <td>(gun)powder</td>\n",
              "      <td>quick</td>\n",
              "      <td>13668</td>\n",
              "      <td>3441</td>\n",
              "      <td>Adj</td>\n",
              "      <td>→</td>\n",
              "      <td>Polysemy</td>\n",
              "      <td>Tigrinya</td>\n",
              "      <td>Tigrinya</td>\n",
              "      <td>barud</td>\n",
              "      <td>barud</td>\n",
              "      <td>→</td>\n",
              "      <td>Single*</td>\n",
              "      <td>None</td>\n",
              "      <td>None</td>\n",
              "      <td>MB</td>\n",
              "      <td>1</td>\n",
              "    </tr>\n",
              "    <tr>\n",
              "      <th>1</th>\n",
              "      <td>(gun)powder</td>\n",
              "      <td>small quantity of something</td>\n",
              "      <td>8352</td>\n",
              "      <td>1594</td>\n",
              "      <td>None</td>\n",
              "      <td>None</td>\n",
              "      <td>Polysemy</td>\n",
              "      <td>Tabassaran</td>\n",
              "      <td>Tabassaran</td>\n",
              "      <td>barut</td>\n",
              "      <td>barut</td>\n",
              "      <td>→</td>\n",
              "      <td>Single</td>\n",
              "      <td></td>\n",
              "      <td>Только ли о сыпучих веществах?</td>\n",
              "      <td>TM</td>\n",
              "      <td>1</td>\n",
              "    </tr>\n",
              "    <tr>\n",
              "      <th>2</th>\n",
              "      <td>August</td>\n",
              "      <td>harvest</td>\n",
              "      <td>11040</td>\n",
              "      <td>2405</td>\n",
              "      <td>None</td>\n",
              "      <td>→</td>\n",
              "      <td>Polysemy</td>\n",
              "      <td>Mandarin Chinese</td>\n",
              "      <td>Mandarin Chinese</td>\n",
              "      <td>qiū (秋)</td>\n",
              "      <td>qiū (秋)</td>\n",
              "      <td>→</td>\n",
              "      <td>New</td>\n",
              "      <td>Buck 512</td>\n",
              "      <td>None</td>\n",
              "      <td>MR</td>\n",
              "      <td>2</td>\n",
              "    </tr>\n",
              "    <tr>\n",
              "      <th>3</th>\n",
              "      <td>Coleus (Plectranthus) rotundifolius</td>\n",
              "      <td>potato</td>\n",
              "      <td>19863</td>\n",
              "      <td>5843</td>\n",
              "      <td>None</td>\n",
              "      <td>→</td>\n",
              "      <td>Polysemy</td>\n",
              "      <td>Zulu</td>\n",
              "      <td>Zulu</td>\n",
              "      <td>izambane</td>\n",
              "      <td>izambane</td>\n",
              "      <td>→</td>\n",
              "      <td>New</td>\n",
              "      <td>None</td>\n",
              "      <td>None</td>\n",
              "      <td>MR</td>\n",
              "      <td>1</td>\n",
              "    </tr>\n",
              "    <tr>\n",
              "      <th>4</th>\n",
              "      <td>Easter</td>\n",
              "      <td>ladybird</td>\n",
              "      <td>19225</td>\n",
              "      <td>5629</td>\n",
              "      <td>None</td>\n",
              "      <td>→</td>\n",
              "      <td>Polysemy</td>\n",
              "      <td>Armenian</td>\n",
              "      <td>Armenian</td>\n",
              "      <td>zatik (զատիկ)</td>\n",
              "      <td>zatik (զատիկ)</td>\n",
              "      <td>→</td>\n",
              "      <td>New</td>\n",
              "      <td>None</td>\n",
              "      <td>None</td>\n",
              "      <td>MR</td>\n",
              "      <td>2</td>\n",
              "    </tr>\n",
              "  </tbody>\n",
              "</table>\n",
              "</div>\n",
              "      <button class=\"colab-df-convert\" onclick=\"convertToInteractive('df-200e0b76-552e-4982-a7c9-cd676000ed33')\"\n",
              "              title=\"Convert this dataframe to an interactive table.\"\n",
              "              style=\"display:none;\">\n",
              "        \n",
              "  <svg xmlns=\"http://www.w3.org/2000/svg\" height=\"24px\"viewBox=\"0 0 24 24\"\n",
              "       width=\"24px\">\n",
              "    <path d=\"M0 0h24v24H0V0z\" fill=\"none\"/>\n",
              "    <path d=\"M18.56 5.44l.94 2.06.94-2.06 2.06-.94-2.06-.94-.94-2.06-.94 2.06-2.06.94zm-11 1L8.5 8.5l.94-2.06 2.06-.94-2.06-.94L8.5 2.5l-.94 2.06-2.06.94zm10 10l.94 2.06.94-2.06 2.06-.94-2.06-.94-.94-2.06-.94 2.06-2.06.94z\"/><path d=\"M17.41 7.96l-1.37-1.37c-.4-.4-.92-.59-1.43-.59-.52 0-1.04.2-1.43.59L10.3 9.45l-7.72 7.72c-.78.78-.78 2.05 0 2.83L4 21.41c.39.39.9.59 1.41.59.51 0 1.02-.2 1.41-.59l7.78-7.78 2.81-2.81c.8-.78.8-2.07 0-2.86zM5.41 20L4 18.59l7.72-7.72 1.47 1.35L5.41 20z\"/>\n",
              "  </svg>\n",
              "      </button>\n",
              "      \n",
              "  <style>\n",
              "    .colab-df-container {\n",
              "      display:flex;\n",
              "      flex-wrap:wrap;\n",
              "      gap: 12px;\n",
              "    }\n",
              "\n",
              "    .colab-df-convert {\n",
              "      background-color: #E8F0FE;\n",
              "      border: none;\n",
              "      border-radius: 50%;\n",
              "      cursor: pointer;\n",
              "      display: none;\n",
              "      fill: #1967D2;\n",
              "      height: 32px;\n",
              "      padding: 0 0 0 0;\n",
              "      width: 32px;\n",
              "    }\n",
              "\n",
              "    .colab-df-convert:hover {\n",
              "      background-color: #E2EBFA;\n",
              "      box-shadow: 0px 1px 2px rgba(60, 64, 67, 0.3), 0px 1px 3px 1px rgba(60, 64, 67, 0.15);\n",
              "      fill: #174EA6;\n",
              "    }\n",
              "\n",
              "    [theme=dark] .colab-df-convert {\n",
              "      background-color: #3B4455;\n",
              "      fill: #D2E3FC;\n",
              "    }\n",
              "\n",
              "    [theme=dark] .colab-df-convert:hover {\n",
              "      background-color: #434B5C;\n",
              "      box-shadow: 0px 1px 3px 1px rgba(0, 0, 0, 0.15);\n",
              "      filter: drop-shadow(0px 1px 2px rgba(0, 0, 0, 0.3));\n",
              "      fill: #FFFFFF;\n",
              "    }\n",
              "  </style>\n",
              "\n",
              "      <script>\n",
              "        const buttonEl =\n",
              "          document.querySelector('#df-200e0b76-552e-4982-a7c9-cd676000ed33 button.colab-df-convert');\n",
              "        buttonEl.style.display =\n",
              "          google.colab.kernel.accessAllowed ? 'block' : 'none';\n",
              "\n",
              "        async function convertToInteractive(key) {\n",
              "          const element = document.querySelector('#df-200e0b76-552e-4982-a7c9-cd676000ed33');\n",
              "          const dataTable =\n",
              "            await google.colab.kernel.invokeFunction('convertToInteractive',\n",
              "                                                     [key], {});\n",
              "          if (!dataTable) return;\n",
              "\n",
              "          const docLinkHtml = 'Like what you see? Visit the ' +\n",
              "            '<a target=\"_blank\" href=https://colab.research.google.com/notebooks/data_table.ipynb>data table notebook</a>'\n",
              "            + ' to learn more about interactive tables.';\n",
              "          element.innerHTML = '';\n",
              "          dataTable['output_type'] = 'display_data';\n",
              "          await google.colab.output.renderOutput(dataTable, element);\n",
              "          const docLink = document.createElement('div');\n",
              "          docLink.innerHTML = docLinkHtml;\n",
              "          element.appendChild(docLink);\n",
              "        }\n",
              "      </script>\n",
              "    </div>\n",
              "  </div>\n",
              "  "
            ]
          },
          "metadata": {},
          "execution_count": 142
        }
      ]
    },
    {
      "cell_type": "code",
      "source": [
        "senses_dss = list(pd.concat([df_dss['meaning1'], df_dss['meaning2']]).unique())"
      ],
      "metadata": {
        "id": "59T3ze6v7ph6"
      },
      "execution_count": 143,
      "outputs": []
    },
    {
      "cell_type": "code",
      "source": [
        "# Create dictionaries of sense -> valence and sense -> concreteness\n",
        "\n",
        "valence_dict_dss = {}\n",
        "concrete_dict_dss = {}\n",
        "for i in range(len(senses_dss)):\n",
        "  valence_dict_dss[senses_dss[i]] = calc_valence(senses_dss[i])\n",
        "  concrete_dict_dss[senses_dss[i]] = calc_concrete(senses_dss[i])\n",
        "  \n",
        "def get_valence_dss(sense: str):\n",
        "  return valence_dict_dss[sense]\n",
        "\n",
        "def get_concrete_dss(sense: str):\n",
        "  return concrete_dict_dss[sense]"
      ],
      "metadata": {
        "id": "Tf5pP5k_73Za"
      },
      "execution_count": 144,
      "outputs": []
    },
    {
      "cell_type": "code",
      "source": [
        "# Create dictionary of sense -> phraseBERT embedding\n",
        "\n",
        "sense_embs_dss = model.encode(senses_dss)\n",
        "sense_embs_dict_dss = {}\n",
        "for i in range(len(senses_dss)):\n",
        "  sense_embs_dict_dss[senses_dss[i]] = sense_embs_dss[i]\n",
        "\n",
        "def get_emb_dss(sense: str):\n",
        "  return sense_embs_dict_dss[sense]"
      ],
      "metadata": {
        "id": "JPJQfa0H8BfR"
      },
      "execution_count": 145,
      "outputs": []
    },
    {
      "cell_type": "code",
      "source": [
        "# Methods to create the values of the scatterplot (adding them into the original dataframe)\n",
        "\n",
        "def get_cos_sim_dss(sense1: str, sense2: str):\n",
        "  s1_emb = get_emb_dss(sense1)\n",
        "  s2_emb = get_emb_dss(sense2)\n",
        "  return 1 - distance.cosine(s1_emb, s2_emb)\n",
        "\n",
        "def get_valence_dif_dss(sense1: str, sense2: str):\n",
        "  return get_valence_dss(sense2) - get_valence_dss(sense1) \n",
        "\n",
        "def get_concrete_dif_dss(sense1: str, sense2: str):\n",
        "  return get_concrete_dss(sense2) - get_concrete_dss(sense1)\n",
        "\n",
        "# Add the values of the scatterplot, based on desired semantic relation\n",
        "def create_graph_vals_dss(relation: str):\n",
        "  if relation == \"relatedness\":\n",
        "    df_dss[\"cos_sim\"] = df_dss.apply(lambda x : get_cos_sim_dss(x['meaning1'], x['meaning2']) , axis=1)\n",
        "  elif relation == \"orientation\":\n",
        "    df_dss[\"valence_dif\"] = df_dss.apply(lambda x : get_valence_dif_dss(x['meaning1'], x['meaning2']) , axis=1)\n",
        "  elif relation == \"metaphoricity\":\n",
        "    df_dss[\"concrete_dif\"] = df_dss.apply(lambda x : get_concrete_dif_dss(x['meaning1'], x['meaning2']) , axis=1)"
      ],
      "metadata": {
        "id": "g7cFDcH98Sy3"
      },
      "execution_count": 146,
      "outputs": []
    },
    {
      "cell_type": "code",
      "source": [
        "# Semantic relatedness scatterplot\n",
        "\n",
        "create_graph_vals_dss(\"relatedness\")\n",
        "plt.scatter(df_dss[\"cos_sim\"], df_dss[\"realizations\"], s=10)\n",
        "plt.title(\"Semantic shift frequency vs semantic relatedness of source and target\")\n",
        "plt.xlabel(\"Cosine similarity of phraseBERT embeddings (higher value = source and target are more similar)\")\n",
        "plt.ylabel(\"No. of realizations of shift (from DatSemShift)\")\n",
        "plt.show()"
      ],
      "metadata": {
        "colab": {
          "base_uri": "https://localhost:8080/",
          "height": 295
        },
        "id": "i1SBC-l2-m_6",
        "outputId": "0e03133c-c214-434f-e052-b954254d43ea"
      },
      "execution_count": 196,
      "outputs": [
        {
          "output_type": "display_data",
          "data": {
            "text/plain": [
              "<Figure size 432x288 with 1 Axes>"
            ],
            "image/png": "[encoded data removed]"
          },
          "metadata": {
            "needs_background": "light"
          }
        }
      ]
    },
    {
      "cell_type": "code",
      "source": [
        "# Semantic orientation scatterplot\n",
        "\n",
        "create_graph_vals_dss(\"orientation\")\n",
        "plt.scatter(df_dss[\"valence_dif\"], df_dss[\"realizations\"], s=10)\n",
        "plt.title(\"Semantic shift frequency vs semantic orientation of shift\")\n",
        "plt.xlabel(\"Difference in valence (positive = ameliorative shift, negative = perjorative shift)\")\n",
        "plt.ylabel(\"No. of realizations of shift (from DatSemShift)\")\n",
        "plt.show()"
      ],
      "metadata": {
        "colab": {
          "base_uri": "https://localhost:8080/",
          "height": 295
        },
        "id": "OtwqWWzF_ntn",
        "outputId": "35e4cbe7-ca34-43b6-a930-5cd13d269ac6"
      },
      "execution_count": 195,
      "outputs": [
        {
          "output_type": "display_data",
          "data": {
            "text/plain": [
              "<Figure size 432x288 with 1 Axes>"
            ],
            "image/png": "[encoded data removed]"
          },
          "metadata": {
            "needs_background": "light"
          }
        }
      ]
    },
    {
      "cell_type": "code",
      "source": [
        "# Metaphoricity scatterplot\n",
        "\n",
        "create_graph_vals_dss(\"metaphoricity\")\n",
        "plt.scatter(df_dss[\"concrete_dif\"], df_dss[\"realizations\"], s=10)\n",
        "plt.title(\"Semantic shift frequency vs change in concreteness of shift\")\n",
        "plt.xlabel(\"Difference in concreteness (positive = becomes more concrete, negative = becomes more abstract)\")\n",
        "plt.ylabel(\"No. of realizations of shift (from DatSemShift)\")\n",
        "plt.show()"
      ],
      "metadata": {
        "colab": {
          "base_uri": "https://localhost:8080/",
          "height": 295
        },
        "id": "DzdUgpfl_n_u",
        "outputId": "a01816b2-2c7f-430c-a2a6-3525530fd25d"
      },
      "execution_count": 194,
      "outputs": [
        {
          "output_type": "display_data",
          "data": {
            "text/plain": [
              "<Figure size 432x288 with 1 Axes>"
            ],
            "image/png": "[encoded data removed]"
          },
          "metadata": {
            "needs_background": "light"
          }
        }
      ]
    },
    {
      "cell_type": "code",
      "source": [
        "# Create histogram of shift realizations in DatSemShift\n",
        "\n",
        "plt.title(\"Histogram of shift realizations in DatSemShift\")\n",
        "plt.hist(df_dss[\"realizations\"], bins=50)\n",
        "plt.show()"
      ],
      "metadata": {
        "colab": {
          "base_uri": "https://localhost:8080/",
          "height": 281
        },
        "id": "9f-h45QVQlOB",
        "outputId": "e4330edb-1a47-4c7c-dc07-f8a04923e216"
      },
      "execution_count": 159,
      "outputs": [
        {
          "output_type": "display_data",
          "data": {
            "text/plain": [
              "<Figure size 432x288 with 1 Axes>"
            ],
            "image/png": "[encoded data removed]"
          },
          "metadata": {
            "needs_background": "light"
          }
        }
      ]
    }
  ],
  "metadata": {
    "colab": {
      "name": "graphs.ipynb",
      "provenance": [],
      "collapsed_sections": [],
      "mount_file_id": "1U-OS3YmQnBA_Dn-q3AJgC8-vEEwa0cm-",
      "authorship_tag": "ABX9TyM0sOofD068hu85Rsy1ddqO",
      "include_colab_link": true
    },
    "kernelspec": {
      "display_name": "Python 3",
      "name": "python3"
    },
    "language_info": {
      "name": "python"
    }
  },
  "nbformat": 4,
  "nbformat_minor": 0
}